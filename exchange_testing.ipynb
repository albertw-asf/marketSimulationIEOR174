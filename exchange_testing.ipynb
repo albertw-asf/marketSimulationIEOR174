{
 "cells": [
  {
   "cell_type": "code",
   "execution_count": 1,
   "metadata": {},
   "outputs": [],
   "source": [
    "import pandas as pd\n",
    "import numpy as np\n",
    "\n",
    "from exchange import *\n",
    "from agents import *"
   ]
  },
  {
   "cell_type": "markdown",
   "metadata": {},
   "source": [
    "# testing exchange functions"
   ]
  },
  {
   "cell_type": "code",
   "execution_count": 2,
   "metadata": {},
   "outputs": [],
   "source": [
    "e = Exchange()"
   ]
  },
  {
   "cell_type": "code",
   "execution_count": 3,
   "metadata": {},
   "outputs": [
    {
     "data": {
      "text/plain": [
       "(defaultdict(<function exchange.Exchange.__init__.<locals>.<lambda>()>, {}),\n",
       " defaultdict(<function exchange.Exchange.__init__.<locals>.<lambda>()>, {}),\n",
       " {},\n",
       " {},\n",
       " [])"
      ]
     },
     "execution_count": 3,
     "metadata": {},
     "output_type": "execute_result"
    }
   ],
   "source": [
    "e.bids, e.asks, e.ask_customers, e.bid_customers, e.get_transactions()"
   ]
  },
  {
   "cell_type": "code",
   "execution_count": 4,
   "metadata": {},
   "outputs": [
    {
     "data": {
      "text/plain": [
       "(defaultdict(<function exchange.Exchange.add_bid.<locals>.<lambda>()>,\n",
       "             {100: 2}),\n",
       " defaultdict(<function exchange.Exchange.__init__.<locals>.<lambda>()>, {}),\n",
       " {},\n",
       " {'22': (100, 0, 2, None)},\n",
       " [])"
      ]
     },
     "execution_count": 4,
     "metadata": {},
     "output_type": "execute_result"
    }
   ],
   "source": [
    "e.add_bid(100, 2, \"22\", None)\n",
    "e.bids, e.asks, e.ask_customers, e.bid_customers, e.get_transactions()"
   ]
  },
  {
   "cell_type": "code",
   "execution_count": 5,
   "metadata": {},
   "outputs": [
    {
     "data": {
      "text/plain": [
       "(defaultdict(<function exchange.Exchange.add_bid.<locals>.<lambda>()>,\n",
       "             {100: 4}),\n",
       " defaultdict(<function exchange.Exchange.__init__.<locals>.<lambda>()>, {}),\n",
       " {},\n",
       " {'22': (100, 0, 2, None), '23': (100, 0, 2, None)},\n",
       " [])"
      ]
     },
     "execution_count": 5,
     "metadata": {},
     "output_type": "execute_result"
    }
   ],
   "source": [
    "e.add_bid(100, 2, \"23\", None)\n",
    "e.bids, e.asks, e.ask_customers, e.bid_customers, e.get_transactions()"
   ]
  },
  {
   "cell_type": "code",
   "execution_count": 6,
   "metadata": {},
   "outputs": [
    {
     "data": {
      "text/plain": [
       "(defaultdict(<function exchange.Exchange.add_bid.<locals>.<lambda>()>,\n",
       "             {120: 5, 100: 4}),\n",
       " defaultdict(<function exchange.Exchange.__init__.<locals>.<lambda>()>, {}),\n",
       " {},\n",
       " {'24': (120, 0, 5, None), '22': (100, 0, 2, None), '23': (100, 0, 2, None)},\n",
       " [])"
      ]
     },
     "execution_count": 6,
     "metadata": {},
     "output_type": "execute_result"
    }
   ],
   "source": [
    "e.add_bid(120, 5, \"24\", None)\n",
    "e.bids, e.asks, e.ask_customers, e.bid_customers, e.get_transactions()"
   ]
  },
  {
   "cell_type": "code",
   "execution_count": 7,
   "metadata": {},
   "outputs": [
    {
     "data": {
      "text/plain": [
       "(defaultdict(<function exchange.Exchange.add_bid.<locals>.<lambda>()>,\n",
       "             {121: 10, 120: 5, 100: 4}),\n",
       " defaultdict(<function exchange.Exchange.__init__.<locals>.<lambda>()>, {}),\n",
       " {},\n",
       " {'25': (121, 0, 10, None),\n",
       "  '24': (120, 0, 5, None),\n",
       "  '22': (100, 0, 2, None),\n",
       "  '23': (100, 0, 2, None)},\n",
       " [])"
      ]
     },
     "execution_count": 7,
     "metadata": {},
     "output_type": "execute_result"
    }
   ],
   "source": [
    "e.add_bid(121, 10, \"25\", None)\n",
    "e.bids, e.asks, e.ask_customers, e.bid_customers, e.get_transactions()"
   ]
  },
  {
   "cell_type": "code",
   "execution_count": 8,
   "metadata": {},
   "outputs": [
    {
     "data": {
      "text/plain": [
       "(defaultdict(<function exchange.Exchange.add_bid.<locals>.<lambda>()>,\n",
       "             {121: 10, 120: 5, 100: 4}),\n",
       " defaultdict(<function exchange.Exchange.add_ask.<locals>.<lambda>()>,\n",
       "             {150: 5}),\n",
       " {'26': (150, 0, 5, None)},\n",
       " {'25': (121, 0, 10, None),\n",
       "  '24': (120, 0, 5, None),\n",
       "  '22': (100, 0, 2, None),\n",
       "  '23': (100, 0, 2, None)},\n",
       " [])"
      ]
     },
     "execution_count": 8,
     "metadata": {},
     "output_type": "execute_result"
    }
   ],
   "source": [
    "# testing ask now\n",
    "e.add_ask(150, 5, \"26\", None)\n",
    "e.bids, e.asks, e.ask_customers, e.bid_customers, e.get_transactions()"
   ]
  },
  {
   "cell_type": "code",
   "execution_count": 9,
   "metadata": {},
   "outputs": [
    {
     "data": {
      "text/plain": [
       "(defaultdict(<function exchange.Exchange.add_bid.<locals>.<lambda>()>,\n",
       "             {121: 10, 120: 5, 100: 4}),\n",
       " defaultdict(<function exchange.Exchange.add_ask.<locals>.<lambda>()>,\n",
       "             {150: 10}),\n",
       " {'26': (150, 0, 5, None), '27': (150, 0, 5, None)},\n",
       " {'25': (121, 0, 10, None),\n",
       "  '24': (120, 0, 5, None),\n",
       "  '22': (100, 0, 2, None),\n",
       "  '23': (100, 0, 2, None)},\n",
       " [])"
      ]
     },
     "execution_count": 9,
     "metadata": {},
     "output_type": "execute_result"
    }
   ],
   "source": [
    "e.add_ask(150, 5, \"27\", None)\n",
    "e.bids, e.asks, e.ask_customers, e.bid_customers, e.get_transactions()"
   ]
  },
  {
   "cell_type": "code",
   "execution_count": 10,
   "metadata": {},
   "outputs": [
    {
     "data": {
      "text/plain": [
       "(defaultdict(<function exchange.Exchange.add_bid.<locals>.<lambda>()>,\n",
       "             {121: 10, 120: 5, 100: 4}),\n",
       " defaultdict(<function exchange.Exchange.add_ask.<locals>.<lambda>()>,\n",
       "             {150: 10, 155: 2}),\n",
       " {'26': (150, 0, 5, None), '27': (150, 0, 5, None), '28': (155, 0, 2, None)},\n",
       " {'25': (121, 0, 10, None),\n",
       "  '24': (120, 0, 5, None),\n",
       "  '22': (100, 0, 2, None),\n",
       "  '23': (100, 0, 2, None)},\n",
       " [])"
      ]
     },
     "execution_count": 10,
     "metadata": {},
     "output_type": "execute_result"
    }
   ],
   "source": [
    "e.add_ask(155, 2, \"28\", None)\n",
    "e.bids, e.asks, e.ask_customers, e.bid_customers, e.get_transactions()"
   ]
  },
  {
   "cell_type": "code",
   "execution_count": 11,
   "metadata": {},
   "outputs": [
    {
     "data": {
      "text/plain": [
       "(defaultdict(<function exchange.Exchange.add_bid.<locals>.<lambda>()>,\n",
       "             {121: 10, 120: 5, 100: 4}),\n",
       " defaultdict(<function exchange.Exchange.add_ask.<locals>.<lambda>()>,\n",
       "             {150: 15, 155: 2}),\n",
       " {'26': (150, 0, 5, None),\n",
       "  '27': (150, 0, 5, None),\n",
       "  '29': (150, 0, 5, None),\n",
       "  '28': (155, 0, 2, None)},\n",
       " {'25': (121, 0, 10, None),\n",
       "  '24': (120, 0, 5, None),\n",
       "  '22': (100, 0, 2, None),\n",
       "  '23': (100, 0, 2, None)},\n",
       " [])"
      ]
     },
     "execution_count": 11,
     "metadata": {},
     "output_type": "execute_result"
    }
   ],
   "source": [
    "e.add_ask(150, 5, \"29\", None)\n",
    "e.bids, e.asks, e.ask_customers, e.bid_customers, e.get_transactions()"
   ]
  },
  {
   "cell_type": "code",
   "execution_count": 13,
   "metadata": {},
   "outputs": [
    {
     "data": {
      "text/plain": [
       "(defaultdict(<function exchange.Exchange.add_bid.<locals>.<lambda>()>,\n",
       "             {121: 5, 120: 5, 100: 4}),\n",
       " defaultdict(<function exchange.Exchange.add_ask.<locals>.<lambda>()>,\n",
       "             {150: 15, 155: 2}),\n",
       " {'26': (150, 0, 5, None),\n",
       "  '27': (150, 0, 5, None),\n",
       "  '29': (150, 0, 5, None),\n",
       "  '28': (155, 0, 2, None)},\n",
       " {'25': (121, 0, 5, None),\n",
       "  '24': (120, 0, 5, None),\n",
       "  '22': (100, 0, 2, None),\n",
       "  '23': (100, 0, 2, None)},\n",
       " [{'bid_customerid': '25',\n",
       "   'ask_customerid': '30',\n",
       "   'price': 120,\n",
       "   'quantity': 5,\n",
       "   'timestamp': 0,\n",
       "   'aggressor_side': 'ask',\n",
       "   'aggressor_id': '30'}])"
      ]
     },
     "execution_count": 13,
     "metadata": {},
     "output_type": "execute_result"
    }
   ],
   "source": [
    "# testing matching\n",
    "e.add_ask(120, 5, \"30\", None)\n",
    "e.bids, e.asks, e.ask_customers, e.bid_customers, e.get_transactions()"
   ]
  },
  {
   "cell_type": "code",
   "execution_count": 14,
   "metadata": {},
   "outputs": [
    {
     "data": {
      "text/plain": [
       "(defaultdict(<function exchange.Exchange.add_bid.<locals>.<lambda>()>,\n",
       "             {120: 5, 100: 4}),\n",
       " defaultdict(<function exchange.Exchange.add_ask.<locals>.<lambda>()>,\n",
       "             {150: 15, 155: 2}),\n",
       " {'24': (120, 0, 5, None), '22': (100, 0, 2, None), '23': (100, 0, 2, None)},\n",
       " {'26': (150, 0, 5, None),\n",
       "  '27': (150, 0, 5, None),\n",
       "  '29': (150, 0, 5, None),\n",
       "  '28': (155, 0, 2, None)},\n",
       " [{'bid_customerid': '25',\n",
       "   'ask_customerid': '30',\n",
       "   'price': 120,\n",
       "   'quantity': 5,\n",
       "   'timestamp': 0,\n",
       "   'aggressor_side': 'ask',\n",
       "   'aggressor_id': '30'},\n",
       "  {'bid_customerid': '25',\n",
       "   'ask_customerid': '30',\n",
       "   'price': 100,\n",
       "   'quantity': 5,\n",
       "   'timestamp': 0,\n",
       "   'aggressor_side': 'ask',\n",
       "   'aggressor_id': '30'}])"
      ]
     },
     "execution_count": 14,
     "metadata": {},
     "output_type": "execute_result"
    }
   ],
   "source": [
    "e.add_ask(100, 5, \"30\", None)\n",
    "e.bids, e.asks, e.bid_customers, e.ask_customers, e.get_transactions()"
   ]
  },
  {
   "cell_type": "code",
   "execution_count": 19,
   "metadata": {},
   "outputs": [
    {
     "data": {
      "text/plain": [
       "(defaultdict(<function exchange.Exchange.add_bid.<locals>.<lambda>()>,\n",
       "             {120: 5, 100: 4}),\n",
       " defaultdict(<function exchange.Exchange.add_ask.<locals>.<lambda>()>,\n",
       "             {155: 1}),\n",
       " {'24': (120, 0, 5, None), '22': (100, 0, 2, None), '23': (100, 0, 2, None)},\n",
       " {'28': (155, 0, 1, None)},\n",
       " [{'bid_customerid': '25',\n",
       "   'ask_customerid': '30',\n",
       "   'price': 120,\n",
       "   'quantity': 5,\n",
       "   'timestamp': 0,\n",
       "   'aggressor_side': 'ask',\n",
       "   'aggressor_id': '30'},\n",
       "  {'bid_customerid': '25',\n",
       "   'ask_customerid': '30',\n",
       "   'price': 100,\n",
       "   'quantity': 5,\n",
       "   'timestamp': 0,\n",
       "   'aggressor_side': 'ask',\n",
       "   'aggressor_id': '30'},\n",
       "  {'bid_customerid': '31',\n",
       "   'ask_customerid': '26',\n",
       "   'price': 156,\n",
       "   'quantity': 5,\n",
       "   'timestamp': 0,\n",
       "   'aggressor_side': 'bid',\n",
       "   'aggressor_id': '31'},\n",
       "  {'bid_customerid': '31',\n",
       "   'ask_customerid': '27',\n",
       "   'price': 156,\n",
       "   'quantity': 5,\n",
       "   'timestamp': 0,\n",
       "   'aggressor_side': 'bid',\n",
       "   'aggressor_id': '31'},\n",
       "  {'bid_customerid': '31',\n",
       "   'ask_customerid': '29',\n",
       "   'price': 156,\n",
       "   'quantity': 5,\n",
       "   'timestamp': 0,\n",
       "   'aggressor_side': 'bid',\n",
       "   'aggressor_id': '31'},\n",
       "  {'bid_customerid': '31',\n",
       "   'ask_customerid': '28',\n",
       "   'price': 156,\n",
       "   'quantity': 2,\n",
       "   'timestamp': 0,\n",
       "   'aggressor_side': 'bid',\n",
       "   'aggressor_id': '31'}])"
      ]
     },
     "execution_count": 19,
     "metadata": {},
     "output_type": "execute_result"
    }
   ],
   "source": [
    "e.add_bid(156, 16, \"31\", None)\n",
    "e.bids, e.asks, e.bid_customers, e.ask_customers, e.get_transactions()"
   ]
  },
  {
   "cell_type": "code",
   "execution_count": 20,
   "metadata": {},
   "outputs": [
    {
     "data": {
      "text/plain": [
       "(defaultdict(<function exchange.Exchange.add_bid.<locals>.<lambda>()>,\n",
       "             {155: 4, 120: 5, 100: 4}),\n",
       " defaultdict(<function exchange.Exchange.add_ask.<locals>.<lambda>()>, {}),\n",
       " {'32': (155, 0, 4, None),\n",
       "  '24': (120, 0, 5, None),\n",
       "  '22': (100, 0, 2, None),\n",
       "  '23': (100, 0, 2, None)},\n",
       " {},\n",
       " [{'bid_customerid': '25',\n",
       "   'ask_customerid': '30',\n",
       "   'price': 120,\n",
       "   'quantity': 5,\n",
       "   'timestamp': 0,\n",
       "   'aggressor_side': 'ask',\n",
       "   'aggressor_id': '30'},\n",
       "  {'bid_customerid': '25',\n",
       "   'ask_customerid': '30',\n",
       "   'price': 100,\n",
       "   'quantity': 5,\n",
       "   'timestamp': 0,\n",
       "   'aggressor_side': 'ask',\n",
       "   'aggressor_id': '30'},\n",
       "  {'bid_customerid': '31',\n",
       "   'ask_customerid': '26',\n",
       "   'price': 156,\n",
       "   'quantity': 5,\n",
       "   'timestamp': 0,\n",
       "   'aggressor_side': 'bid',\n",
       "   'aggressor_id': '31'},\n",
       "  {'bid_customerid': '31',\n",
       "   'ask_customerid': '27',\n",
       "   'price': 156,\n",
       "   'quantity': 5,\n",
       "   'timestamp': 0,\n",
       "   'aggressor_side': 'bid',\n",
       "   'aggressor_id': '31'},\n",
       "  {'bid_customerid': '31',\n",
       "   'ask_customerid': '29',\n",
       "   'price': 156,\n",
       "   'quantity': 5,\n",
       "   'timestamp': 0,\n",
       "   'aggressor_side': 'bid',\n",
       "   'aggressor_id': '31'},\n",
       "  {'bid_customerid': '31',\n",
       "   'ask_customerid': '28',\n",
       "   'price': 156,\n",
       "   'quantity': 2,\n",
       "   'timestamp': 0,\n",
       "   'aggressor_side': 'bid',\n",
       "   'aggressor_id': '31'},\n",
       "  {'bid_customerid': '32',\n",
       "   'ask_customerid': '28',\n",
       "   'price': 155,\n",
       "   'quantity': 1,\n",
       "   'timestamp': 0,\n",
       "   'aggressor_side': 'bid',\n",
       "   'aggressor_id': '32'}])"
      ]
     },
     "execution_count": 20,
     "metadata": {},
     "output_type": "execute_result"
    }
   ],
   "source": [
    "e.add_bid(155, 5, \"32\", None)\n",
    "e.bids, e.asks, e.bid_customers, e.ask_customers, e.get_transactions()"
   ]
  },
  {
   "cell_type": "code",
   "execution_count": 21,
   "metadata": {},
   "outputs": [
    {
     "data": {
      "text/plain": [
       "(defaultdict(<function exchange.Exchange.add_bid.<locals>.<lambda>()>, {}),\n",
       " defaultdict(<function exchange.Exchange.add_ask.<locals>.<lambda>()>,\n",
       "             {100: 2}),\n",
       " {},\n",
       " {'33': (100, 0, 2, None)},\n",
       " [{'bid_customerid': '25',\n",
       "   'ask_customerid': '30',\n",
       "   'price': 120,\n",
       "   'quantity': 5,\n",
       "   'timestamp': 0,\n",
       "   'aggressor_side': 'ask',\n",
       "   'aggressor_id': '30'},\n",
       "  {'bid_customerid': '25',\n",
       "   'ask_customerid': '30',\n",
       "   'price': 100,\n",
       "   'quantity': 5,\n",
       "   'timestamp': 0,\n",
       "   'aggressor_side': 'ask',\n",
       "   'aggressor_id': '30'},\n",
       "  {'bid_customerid': '31',\n",
       "   'ask_customerid': '26',\n",
       "   'price': 156,\n",
       "   'quantity': 5,\n",
       "   'timestamp': 0,\n",
       "   'aggressor_side': 'bid',\n",
       "   'aggressor_id': '31'},\n",
       "  {'bid_customerid': '31',\n",
       "   'ask_customerid': '27',\n",
       "   'price': 156,\n",
       "   'quantity': 5,\n",
       "   'timestamp': 0,\n",
       "   'aggressor_side': 'bid',\n",
       "   'aggressor_id': '31'},\n",
       "  {'bid_customerid': '31',\n",
       "   'ask_customerid': '29',\n",
       "   'price': 156,\n",
       "   'quantity': 5,\n",
       "   'timestamp': 0,\n",
       "   'aggressor_side': 'bid',\n",
       "   'aggressor_id': '31'},\n",
       "  {'bid_customerid': '31',\n",
       "   'ask_customerid': '28',\n",
       "   'price': 156,\n",
       "   'quantity': 2,\n",
       "   'timestamp': 0,\n",
       "   'aggressor_side': 'bid',\n",
       "   'aggressor_id': '31'},\n",
       "  {'bid_customerid': '32',\n",
       "   'ask_customerid': '28',\n",
       "   'price': 155,\n",
       "   'quantity': 1,\n",
       "   'timestamp': 0,\n",
       "   'aggressor_side': 'bid',\n",
       "   'aggressor_id': '32'},\n",
       "  {'bid_customerid': '32',\n",
       "   'ask_customerid': '33',\n",
       "   'price': 100,\n",
       "   'quantity': 4,\n",
       "   'timestamp': 0,\n",
       "   'aggressor_side': 'ask',\n",
       "   'aggressor_id': '33'},\n",
       "  {'bid_customerid': '24',\n",
       "   'ask_customerid': '33',\n",
       "   'price': 100,\n",
       "   'quantity': 5,\n",
       "   'timestamp': 0,\n",
       "   'aggressor_side': 'ask',\n",
       "   'aggressor_id': '33'},\n",
       "  {'bid_customerid': '22',\n",
       "   'ask_customerid': '33',\n",
       "   'price': 100,\n",
       "   'quantity': 2,\n",
       "   'timestamp': 0,\n",
       "   'aggressor_side': 'ask',\n",
       "   'aggressor_id': '33'},\n",
       "  {'bid_customerid': '23',\n",
       "   'ask_customerid': '33',\n",
       "   'price': 100,\n",
       "   'quantity': 2,\n",
       "   'timestamp': 0,\n",
       "   'aggressor_side': 'ask',\n",
       "   'aggressor_id': '33'}])"
      ]
     },
     "execution_count": 21,
     "metadata": {},
     "output_type": "execute_result"
    }
   ],
   "source": [
    "e.add_ask(100,  15, \"33\", None)\n",
    "e.bids, e.asks, e.bid_customers, e.ask_customers, e.get_transactions()"
   ]
  },
  {
   "cell_type": "code",
   "execution_count": 22,
   "metadata": {},
   "outputs": [
    {
     "data": {
      "text/plain": [
       "(defaultdict(<function exchange.Exchange.add_bid.<locals>.<lambda>()>, {}),\n",
       " defaultdict(<function exchange.Exchange.add_ask.<locals>.<lambda>()>, {}),\n",
       " {},\n",
       " {},\n",
       " [{'bid_customerid': '25',\n",
       "   'ask_customerid': '30',\n",
       "   'price': 120,\n",
       "   'quantity': 5,\n",
       "   'timestamp': 0,\n",
       "   'aggressor_side': 'ask',\n",
       "   'aggressor_id': '30'},\n",
       "  {'bid_customerid': '25',\n",
       "   'ask_customerid': '30',\n",
       "   'price': 100,\n",
       "   'quantity': 5,\n",
       "   'timestamp': 0,\n",
       "   'aggressor_side': 'ask',\n",
       "   'aggressor_id': '30'},\n",
       "  {'bid_customerid': '31',\n",
       "   'ask_customerid': '26',\n",
       "   'price': 156,\n",
       "   'quantity': 5,\n",
       "   'timestamp': 0,\n",
       "   'aggressor_side': 'bid',\n",
       "   'aggressor_id': '31'},\n",
       "  {'bid_customerid': '31',\n",
       "   'ask_customerid': '27',\n",
       "   'price': 156,\n",
       "   'quantity': 5,\n",
       "   'timestamp': 0,\n",
       "   'aggressor_side': 'bid',\n",
       "   'aggressor_id': '31'},\n",
       "  {'bid_customerid': '31',\n",
       "   'ask_customerid': '29',\n",
       "   'price': 156,\n",
       "   'quantity': 5,\n",
       "   'timestamp': 0,\n",
       "   'aggressor_side': 'bid',\n",
       "   'aggressor_id': '31'},\n",
       "  {'bid_customerid': '31',\n",
       "   'ask_customerid': '28',\n",
       "   'price': 156,\n",
       "   'quantity': 2,\n",
       "   'timestamp': 0,\n",
       "   'aggressor_side': 'bid',\n",
       "   'aggressor_id': '31'},\n",
       "  {'bid_customerid': '32',\n",
       "   'ask_customerid': '28',\n",
       "   'price': 155,\n",
       "   'quantity': 1,\n",
       "   'timestamp': 0,\n",
       "   'aggressor_side': 'bid',\n",
       "   'aggressor_id': '32'},\n",
       "  {'bid_customerid': '32',\n",
       "   'ask_customerid': '33',\n",
       "   'price': 100,\n",
       "   'quantity': 4,\n",
       "   'timestamp': 0,\n",
       "   'aggressor_side': 'ask',\n",
       "   'aggressor_id': '33'},\n",
       "  {'bid_customerid': '24',\n",
       "   'ask_customerid': '33',\n",
       "   'price': 100,\n",
       "   'quantity': 5,\n",
       "   'timestamp': 0,\n",
       "   'aggressor_side': 'ask',\n",
       "   'aggressor_id': '33'},\n",
       "  {'bid_customerid': '22',\n",
       "   'ask_customerid': '33',\n",
       "   'price': 100,\n",
       "   'quantity': 2,\n",
       "   'timestamp': 0,\n",
       "   'aggressor_side': 'ask',\n",
       "   'aggressor_id': '33'},\n",
       "  {'bid_customerid': '23',\n",
       "   'ask_customerid': '33',\n",
       "   'price': 100,\n",
       "   'quantity': 2,\n",
       "   'timestamp': 0,\n",
       "   'aggressor_side': 'ask',\n",
       "   'aggressor_id': '33'},\n",
       "  {'bid_customerid': '34',\n",
       "   'ask_customerid': '33',\n",
       "   'price': 100,\n",
       "   'quantity': 2,\n",
       "   'timestamp': 0,\n",
       "   'aggressor_side': 'bid',\n",
       "   'aggressor_id': '34'}])"
      ]
     },
     "execution_count": 22,
     "metadata": {},
     "output_type": "execute_result"
    }
   ],
   "source": [
    "e.add_bid(100, 2, \"34\", None)\n",
    "e.bids, e.asks, e.bid_customers, e.ask_customers, e.get_transactions()"
   ]
  }
 ],
 "metadata": {
  "kernelspec": {
   "display_name": "Python 3.9.12 ('ml')",
   "language": "python",
   "name": "python3"
  },
  "language_info": {
   "codemirror_mode": {
    "name": "ipython",
    "version": 3
   },
   "file_extension": ".py",
   "mimetype": "text/x-python",
   "name": "python",
   "nbconvert_exporter": "python",
   "pygments_lexer": "ipython3",
   "version": "3.9.12"
  },
  "orig_nbformat": 4,
  "vscode": {
   "interpreter": {
    "hash": "c09d1698212c735a3443dc0423fe58b563a1b228e762256a81505a70ae1393dc"
   }
  }
 },
 "nbformat": 4,
 "nbformat_minor": 2
}
