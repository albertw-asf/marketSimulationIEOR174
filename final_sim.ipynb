{
 "cells": [
  {
   "cell_type": "code",
   "execution_count": 2,
   "metadata": {},
   "outputs": [],
   "source": [
    "import pandas as pd\n",
    "import numpy as np\n",
    "\n",
    "import matplotlib.pyplot as plt\n",
    "import random\n",
    "from scipy.stats import bernoulli\n",
    "\n",
    "from exchange import *\n",
    "from agents import *\n",
    "from simulation import *"
   ]
  },
  {
   "cell_type": "markdown",
   "metadata": {},
   "source": [
    "# Define MainCharacter Policy"
   ]
  },
  {
   "cell_type": "code",
   "execution_count": 3,
   "metadata": {},
   "outputs": [],
   "source": [
    "def execute_policy(e: Exchange, price_function, policy_number: int):\n",
    "    # main character params: true_value, quantity, side, spread, cid\n",
    "\n",
    "    if list(e.bids.keys()) != [] and list(e.asks.keys()) != []:\n",
    "        tob_bid = max(e.bids.keys())\n",
    "        tob_ask = min(e.asks.keys())\n",
    "    else: \n",
    "        return\n",
    "    current_true_value = price_function(e.get_timestamp())\n",
    "\n",
    "    policies = []\n",
    "\n",
    "    ### quote 6 wide around 100 ###\n",
    "    policies.append(MainCharacter(true_value=100, quantity=10, side=\"AB\", spread=3, cid=-1.5))\n",
    "\n",
    "    ### quote 2 wide around 100 ### \n",
    "    policies.append(MainCharacter(true_value=100, quantity=10, side=\"AB\", spread=1, cid=-2.5))\n",
    "\n",
    "    ### quote 2 wide around 100, quantity 1 ###\n",
    "    policies.append(MainCharacter(true_value=100, quantity=1, side=\"AB\", spread=1, cid=-3.5))\n",
    "\n",
    "    ### quote 2 wide around true val (perfect information) ###\n",
    "    policies.append(MainCharacter(true_value = price_function(e.get_timestamp()), quantity=5, side=\"AB\", spread=1, cid=-4.5))\n",
    "\n",
    "    ### quote 2 wide around true val 10 timestamps ago ### \n",
    "    policies.append(MainCharacter(true_value=price_function(e.get_timestamp() - 10), quantity=5, side=\"AB\", spread=1, cid=-5.5))\n",
    "\n",
    "    ### quote 2 wide around true value 10 timestamps into future ###\n",
    "    policies.append(MainCharacter(true_value=price_function(e.get_timestamp() + 10), quantity=5, side=\"AB\", spread=1, cid=-6.5))\n",
    "\n",
    "    ### quote 6 wide around true value  ###\n",
    "    policies.append(MainCharacter(true_value=price_function(e.get_timestamp() + 10), quantity=5, side=\"AB\", spread=3, cid=-7.5))\n",
    "\n",
    "    ### psychic far looking wide policy ###\n",
    "    policies.append(MainCharacter(true_value=price_function(e.get_timestamp() + 50), quantity=5, side=\"AB\", spread=3, cid=-8.5))\n",
    "\n",
    "    a = policies[policy_number]\n",
    "\n",
    "    if policy_number <= 7:\n",
    "        if a.cid not in list(e.ask_customers.keys()) and a.cid not in list(e.bid_customers.keys()):\n",
    "            e.add_order(a)\n",
    "        return\n",
    "\n",
    "    ### quote 1 ticks from top of book ### \n",
    "    if policy_number == 8:\n",
    "        b = MainCharacter(true_value=tob_bid, quantity=5, side=\"B\", spread=1, cid=-9.5)\n",
    "        a = MainCharacter(true_value=tob_ask, quantity=5, side=\"A\", spread=1, cid=-9.5)\n",
    "        if a.cid not in list(e.ask_customers.keys()):\n",
    "            e.add_order(a)\n",
    "        if b.cid not in list(e.bid_customers.keys()):\n",
    "            e.add_order(b)\n",
    "\n",
    "    #TODO: this seems bugged\n",
    "    ### long-short taking strategy ###\n",
    "    if policy_number == 9:\n",
    "        if tob_ask < current_true_value:\n",
    "            b = MainCharacter(true_value=tob_ask, quantity=min(10, e.asks[tob_ask]), side=\"B\", spread=0, cid=-10.5)\n",
    "            e.add_order(b)\n",
    "        if tob_bid > current_true_value:\n",
    "            a = MainCharacter(true_value=tob_bid, quantity=min(10, e.bids[tob_bid]), side=\"A\", spread=0, cid=-10.5)\n",
    "            e.add_order(a)"
   ]
  },
  {
   "cell_type": "markdown",
   "metadata": {},
   "source": [
    "# Define Price Function"
   ]
  },
  {
   "cell_type": "code",
   "execution_count": 4,
   "metadata": {},
   "outputs": [],
   "source": [
    "### constant price ###\n",
    "# price_function = lambda t: 100\n",
    "\n",
    "### linear increasing price ###\n",
    "# price_function = lambda t: 0.003*t + 100\n",
    "\n",
    "### linear decreasing price ###\n",
    "# price_function = lambda t: -0.003*t + 100\n",
    "\n",
    "### polynomial increasing price ### \n",
    "# price_function = lambda t: (t + 20) ** 0.5 + 100\n",
    "\n",
    "### polynomial decreasing price ### \n",
    "# price_function = lambda t: -(t + 20) ** 0.5 + 200\n",
    "\n",
    "### sine fluctuating ###\n",
    "# price_function = lambda t: np.sin(t / 500) * 10 + 100\n",
    "\n",
    "### exponential ###\n",
    "# price_function = lambda t: t * np.exp(t / 10000) + 100\n",
    "\n",
    "### polynomial sine ### \n",
    "# price_function = lambda t: -0.000005 * t ** 2 + 0.05 * t + 100 + np.sin(t / 500) * 30"
   ]
  },
  {
   "cell_type": "code",
   "execution_count": 5,
   "metadata": {},
   "outputs": [
    {
     "data": {
      "text/plain": [
       "110.91007992385184"
      ]
     },
     "execution_count": 5,
     "metadata": {},
     "output_type": "execute_result"
    }
   ],
   "source": [
    "price_function(100)"
   ]
  },
  {
   "cell_type": "code",
   "execution_count": 6,
   "metadata": {},
   "outputs": [
    {
     "data": {
      "text/plain": [
       "Text(0.5, 0, 'timestamp')"
      ]
     },
     "execution_count": 6,
     "metadata": {},
     "output_type": "execute_result"
    },
    {
     "data": {
      "image/png": "[encoded data removed]",
      "text/plain": [
       "<Figure size 432x288 with 1 Axes>"
      ]
     },
     "metadata": {
      "needs_background": "light"
     },
     "output_type": "display_data"
    }
   ],
   "source": [
    "times = range(10000)\n",
    "plt.plot([price_function(t) for t in times])\n",
    "plt.title(\"price function for underlying asset\")\n",
    "plt.ylabel(\"true value\")\n",
    "plt.xlabel(\"timestamp\")"
   ]
  },
  {
   "cell_type": "markdown",
   "metadata": {},
   "source": [
    "# Run Simulation"
   ]
  },
  {
   "cell_type": "markdown",
   "metadata": {},
   "source": [
    "### Constant Price Function"
   ]
  },
  {
   "cell_type": "code",
   "execution_count": 6,
   "metadata": {},
   "outputs": [
    {
     "ename": "KeyboardInterrupt",
     "evalue": "",
     "output_type": "error",
     "traceback": [
      "\u001b[1;31m---------------------------------------------------------------------------\u001b[0m",
      "\u001b[1;31mKeyboardInterrupt\u001b[0m                         Traceback (most recent call last)",
      "\u001b[1;32mc:\\Users\\Albert Wen\\github\\marketSimulationIEOR174\\final_sim.ipynb Cell 9\u001b[0m in \u001b[0;36m<cell line: 4>\u001b[1;34m()\u001b[0m\n\u001b[0;32m      <a href='vscode-notebook-cell:/c%3A/Users/Albert%20Wen/github/marketSimulationIEOR174/final_sim.ipynb#X23sZmlsZQ%3D%3D?line=7'>8</a>\u001b[0m summaries \u001b[39m=\u001b[39m []\n\u001b[0;32m     <a href='vscode-notebook-cell:/c%3A/Users/Albert%20Wen/github/marketSimulationIEOR174/final_sim.ipynb#X23sZmlsZQ%3D%3D?line=9'>10</a>\u001b[0m \u001b[39mfor\u001b[39;00m iteration \u001b[39min\u001b[39;00m \u001b[39mrange\u001b[39m(\u001b[39m20\u001b[39m): \u001b[39m# run 10 simulations\u001b[39;00m\n\u001b[1;32m---> <a href='vscode-notebook-cell:/c%3A/Users/Albert%20Wen/github/marketSimulationIEOR174/final_sim.ipynb#X23sZmlsZQ%3D%3D?line=10'>11</a>\u001b[0m     e \u001b[39m=\u001b[39m simulate(price_function, execute_policy, policy_number\u001b[39m=\u001b[39;49mpolicy_num, agent_arrival_rate\u001b[39m=\u001b[39;49m\u001b[39m0.1\u001b[39;49m, taker_probability\u001b[39m=\u001b[39;49m\u001b[39m0.4\u001b[39;49m, n\u001b[39m=\u001b[39;49m\u001b[39m100000\u001b[39;49m)\n\u001b[0;32m     <a href='vscode-notebook-cell:/c%3A/Users/Albert%20Wen/github/marketSimulationIEOR174/final_sim.ipynb#X23sZmlsZQ%3D%3D?line=11'>12</a>\u001b[0m     summary, profit \u001b[39m=\u001b[39m summarize_transactions(e, price_function, num_agents\u001b[39m=\u001b[39m\u001b[39m20\u001b[39m)\n\u001b[0;32m     <a href='vscode-notebook-cell:/c%3A/Users/Albert%20Wen/github/marketSimulationIEOR174/final_sim.ipynb#X23sZmlsZQ%3D%3D?line=12'>13</a>\u001b[0m     summaries\u001b[39m.\u001b[39mappend(summary)\n",
      "File \u001b[1;32mc:\\Users\\Albert Wen\\github\\marketSimulationIEOR174\\simulation.py:49\u001b[0m, in \u001b[0;36msimulate\u001b[1;34m(price_fnc, policy_fnc, policy_number, agent_arrival_rate, taker_probability, n)\u001b[0m\n\u001b[0;32m     46\u001b[0m     mvn_means \u001b[39m=\u001b[39m [\u001b[39m2\u001b[39m, \u001b[39m0\u001b[39m]\n\u001b[0;32m     47\u001b[0m     mvn_cov \u001b[39m=\u001b[39m [[\u001b[39m9\u001b[39m, \u001b[39m-\u001b[39m\u001b[39m9\u001b[39m], [\u001b[39m-\u001b[39m\u001b[39m9\u001b[39m, \u001b[39m16\u001b[39m]]\n\u001b[1;32m---> 49\u001b[0m     a \u001b[39m=\u001b[39m Taker((mvn_skews, mvn_means, mvn_cov), order_duration_sd, theo_sd, price_function(e\u001b[39m.\u001b[39;49mget_timestamp() \u001b[39m-\u001b[39;49m \u001b[39m3\u001b[39;49m), customer_id)\n\u001b[0;32m     51\u001b[0m e\u001b[39m.\u001b[39madd_order(a)\n\u001b[0;32m     53\u001b[0m \u001b[39m# print(e.get_timestamp())\u001b[39;00m\n",
      "File \u001b[1;32mc:\\Users\\Albert Wen\\github\\marketSimulationIEOR174\\agents.py:129\u001b[0m, in \u001b[0;36mTaker.__init__\u001b[1;34m(self, aggression_params, order_time_sd, theo_sd, true_value, cid)\u001b[0m\n\u001b[0;32m    125\u001b[0m \u001b[39msuper\u001b[39m()\u001b[39m.\u001b[39m\u001b[39m__init__\u001b[39m(theo_sd, true_value, cid)\n\u001b[0;32m    127\u001b[0m mvn_skews, mvn_means, mvn_cov \u001b[39m=\u001b[39m aggression_params\n\u001b[1;32m--> 129\u001b[0m \u001b[39mself\u001b[39m\u001b[39m.\u001b[39mspread, \u001b[39mself\u001b[39m\u001b[39m.\u001b[39mquantity \u001b[39m=\u001b[39m multivariate_skewnorm(mvn_skews, mvn_means, mvn_cov)\u001b[39m.\u001b[39;49mrvs(size\u001b[39m=\u001b[39;49m\u001b[39m1\u001b[39;49m)\n\u001b[0;32m    130\u001b[0m \u001b[39mself\u001b[39m\u001b[39m.\u001b[39mspread \u001b[39m=\u001b[39m \u001b[39mround\u001b[39m(\u001b[39mself\u001b[39m\u001b[39m.\u001b[39mspread)\n\u001b[0;32m    131\u001b[0m \u001b[39mself\u001b[39m\u001b[39m.\u001b[39mquantity \u001b[39m=\u001b[39m \u001b[39mround\u001b[39m(\u001b[39mabs\u001b[39m(\u001b[39mself\u001b[39m\u001b[39m.\u001b[39mquantity))\n",
      "File \u001b[1;32mc:\\Users\\Albert Wen\\github\\marketSimulationIEOR174\\multivariate_skewnorm.py:27\u001b[0m, in \u001b[0;36mmultivariate_skewnorm.rvs\u001b[1;34m(self, size)\u001b[0m\n\u001b[0;32m     25\u001b[0m aCa      \u001b[39m=\u001b[39m \u001b[39mself\u001b[39m\u001b[39m.\u001b[39mshape \u001b[39m@\u001b[39m \u001b[39mself\u001b[39m\u001b[39m.\u001b[39mcov \u001b[39m@\u001b[39m \u001b[39mself\u001b[39m\u001b[39m.\u001b[39mshape\n\u001b[0;32m     26\u001b[0m delta    \u001b[39m=\u001b[39m (\u001b[39m1\u001b[39m \u001b[39m/\u001b[39m np\u001b[39m.\u001b[39msqrt(\u001b[39m1\u001b[39m \u001b[39m+\u001b[39m aCa)) \u001b[39m*\u001b[39m \u001b[39mself\u001b[39m\u001b[39m.\u001b[39mcov \u001b[39m@\u001b[39m \u001b[39mself\u001b[39m\u001b[39m.\u001b[39mshape\n\u001b[1;32m---> 27\u001b[0m cov_star \u001b[39m=\u001b[39m np\u001b[39m.\u001b[39;49mblock([[np\u001b[39m.\u001b[39;49mones(\u001b[39m1\u001b[39;49m),     delta],\n\u001b[0;32m     28\u001b[0m                     [delta[:, \u001b[39mNone\u001b[39;49;00m], \u001b[39mself\u001b[39;49m\u001b[39m.\u001b[39;49mcov]])\n\u001b[0;32m     29\u001b[0m x        \u001b[39m=\u001b[39m mvn(np\u001b[39m.\u001b[39mzeros(\u001b[39mself\u001b[39m\u001b[39m.\u001b[39mdim\u001b[39m+\u001b[39m\u001b[39m1\u001b[39m), cov_star)\u001b[39m.\u001b[39mrvs(size)\n\u001b[0;32m     30\u001b[0m \u001b[39mif\u001b[39;00m size \u001b[39m==\u001b[39m \u001b[39m1\u001b[39m:\n",
      "File \u001b[1;32m<__array_function__ internals>:5\u001b[0m, in \u001b[0;36mblock\u001b[1;34m(*args, **kwargs)\u001b[0m\n",
      "File \u001b[1;32mc:\\Users\\Albert Wen\\anaconda3\\envs\\ml\\lib\\site-packages\\numpy\\core\\shape_base.py:849\u001b[0m, in \u001b[0;36mblock\u001b[1;34m(arrays)\u001b[0m\n\u001b[0;32m    847\u001b[0m     \u001b[39mreturn\u001b[39;00m _block_slicing(arrays, list_ndim, result_ndim)\n\u001b[0;32m    848\u001b[0m \u001b[39melse\u001b[39;00m:\n\u001b[1;32m--> 849\u001b[0m     \u001b[39mreturn\u001b[39;00m _block_concatenate(arrays, list_ndim, result_ndim)\n",
      "File \u001b[1;32mc:\\Users\\Albert Wen\\anaconda3\\envs\\ml\\lib\\site-packages\\numpy\\core\\shape_base.py:893\u001b[0m, in \u001b[0;36m_block_concatenate\u001b[1;34m(arrays, list_ndim, result_ndim)\u001b[0m\n\u001b[0;32m    892\u001b[0m \u001b[39mdef\u001b[39;00m \u001b[39m_block_concatenate\u001b[39m(arrays, list_ndim, result_ndim):\n\u001b[1;32m--> 893\u001b[0m     result \u001b[39m=\u001b[39m _block(arrays, list_ndim, result_ndim)\n\u001b[0;32m    894\u001b[0m     \u001b[39mif\u001b[39;00m list_ndim \u001b[39m==\u001b[39m \u001b[39m0\u001b[39m:\n\u001b[0;32m    895\u001b[0m         \u001b[39m# Catch an edge case where _block returns a view because\u001b[39;00m\n\u001b[0;32m    896\u001b[0m         \u001b[39m# `arrays` is a single numpy array and not a list of numpy arrays.\u001b[39;00m\n\u001b[0;32m    897\u001b[0m         \u001b[39m# This might copy scalars or lists twice, but this isn't a likely\u001b[39;00m\n\u001b[0;32m    898\u001b[0m         \u001b[39m# usecase for those interested in performance\u001b[39;00m\n\u001b[0;32m    899\u001b[0m         result \u001b[39m=\u001b[39m result\u001b[39m.\u001b[39mcopy()\n",
      "File \u001b[1;32mc:\\Users\\Albert Wen\\anaconda3\\envs\\ml\\lib\\site-packages\\numpy\\core\\shape_base.py:662\u001b[0m, in \u001b[0;36m_block\u001b[1;34m(arrays, max_depth, result_ndim, depth)\u001b[0m\n\u001b[0;32m    659\u001b[0m \u001b[39mif\u001b[39;00m depth \u001b[39m<\u001b[39m max_depth:\n\u001b[0;32m    660\u001b[0m     arrs \u001b[39m=\u001b[39m [_block(arr, max_depth, result_ndim, depth\u001b[39m+\u001b[39m\u001b[39m1\u001b[39m)\n\u001b[0;32m    661\u001b[0m             \u001b[39mfor\u001b[39;00m arr \u001b[39min\u001b[39;00m arrays]\n\u001b[1;32m--> 662\u001b[0m     \u001b[39mreturn\u001b[39;00m _concatenate(arrs, axis\u001b[39m=\u001b[39;49m\u001b[39m-\u001b[39;49m(max_depth\u001b[39m-\u001b[39;49mdepth))\n\u001b[0;32m    663\u001b[0m \u001b[39melse\u001b[39;00m:\n\u001b[0;32m    664\u001b[0m     \u001b[39m# We've 'bottomed out' - arrays is either a scalar or an array\u001b[39;00m\n\u001b[0;32m    665\u001b[0m     \u001b[39m# type(arrays) is not list\u001b[39;00m\n\u001b[0;32m    666\u001b[0m     \u001b[39mreturn\u001b[39;00m _atleast_nd(arrays, result_ndim)\n",
      "\u001b[1;31mKeyboardInterrupt\u001b[0m: "
     ]
    }
   ],
   "source": [
    "%%capture\n",
    "\n",
    "price_function = lambda t: 100\n",
    "\n",
    "policy_data = []\n",
    "for policy_num in range(8):\n",
    "    profits = []\n",
    "    ranks = []\n",
    "    exchanges = []\n",
    "    summaries = []\n",
    "\n",
    "    for iteration in range(20): # run 10 simulations\n",
    "        e = simulate(price_function, execute_policy, policy_number=policy_num, agent_arrival_rate=0.1, taker_probability=0.4, n=100000)\n",
    "        summary, profit = summarize_transactions(e, price_function, num_agents=20)\n",
    "        summaries.append(summary)\n",
    "        exchanges.append(e)\n",
    "\n",
    "        if len(profit[profit.index % 1 == 0.5]) == 0:\n",
    "            p = 0 \n",
    "            rank = None\n",
    "        else: \n",
    "            p = profit[profit.index % 1 == 0.5].iloc[0, -1]\n",
    "            rank = list(profit.index % 1).index(0.5) + 1\n",
    "        profits.append(p)\n",
    "        ranks.append(rank)\n",
    "\n",
    "    policy_data.append((profits, ranks, exchanges, summaries))"
   ]
  },
  {
   "cell_type": "code",
   "execution_count": 47,
   "metadata": {},
   "outputs": [
    {
     "data": {
      "text/plain": [
       "[354.2, 5373.9, 1080.8, 3641.5, 3660.95, 3605.1, 295.65, 321.7]"
      ]
     },
     "execution_count": 47,
     "metadata": {},
     "output_type": "execute_result"
    }
   ],
   "source": [
    "# average profit for each simple policy\n",
    "[np.mean(arr[0]) for arr in policy_data]"
   ]
  },
  {
   "cell_type": "code",
   "execution_count": 49,
   "metadata": {},
   "outputs": [
    {
     "data": {
      "text/plain": [
       "[1.0, 1.0, 1.0, 1.0, 1.0, 1.0, 1.45, 1.15]"
      ]
     },
     "execution_count": 49,
     "metadata": {},
     "output_type": "execute_result"
    }
   ],
   "source": [
    "# average rank for each simple policy\n",
    "[np.mean(arr[1]) for arr in policy_data]"
   ]
  },
  {
   "cell_type": "markdown",
   "metadata": {},
   "source": [
    "## Linear Increasing Price Function"
   ]
  },
  {
   "cell_type": "code",
   "execution_count": null,
   "metadata": {},
   "outputs": [],
   "source": [
    "%%capture\n",
    "\n",
    "price_function = lambda t: 0.003*t + 100\n",
    "\n",
    "policy_data = []\n",
    "for policy_num in range(8):\n",
    "    profits = []\n",
    "    ranks = []\n",
    "    exchanges = []\n",
    "    summaries = []\n",
    "\n",
    "    for iteration in range(20): # run 10 simulations\n",
    "        e = simulate(price_function, execute_policy, policy_number=policy_num, agent_arrival_rate=0.1, taker_probability=0.4, n=100000)\n",
    "        summary, profit = summarize_transactions(e, price_function, num_agents=20)\n",
    "        summaries.append(summary)\n",
    "        exchanges.append(e)\n",
    "\n",
    "        if len(profit[profit.index % 1 == 0.5]) == 0:\n",
    "            p = 0 \n",
    "            rank = None\n",
    "        else: \n",
    "            p = profit[profit.index % 1 == 0.5].iloc[0, -1]\n",
    "            rank = list(profit.index % 1).index(0.5) + 1\n",
    "        profits.append(p)\n",
    "        ranks.append(rank)\n",
    "\n",
    "    policy_data.append((profits, ranks, exchanges, summaries))"
   ]
  },
  {
   "cell_type": "code",
   "execution_count": 74,
   "metadata": {},
   "outputs": [
    {
     "data": {
      "text/plain": [
       "[-578834.3643067615,\n",
       " -585403.5613003845,\n",
       " -58631.3911460908,\n",
       " 14355.202552681774,\n",
       " 7505.667722155947,\n",
       " 16051.965088847797,\n",
       " 664.903354028788,\n",
       " 6649.696144643107]"
      ]
     },
     "execution_count": 74,
     "metadata": {},
     "output_type": "execute_result"
    }
   ],
   "source": [
    "# average profit for each simple policy\n",
    "[np.mean(arr[0]) for arr in policy_data]"
   ]
  },
  {
   "cell_type": "code",
   "execution_count": 75,
   "metadata": {},
   "outputs": [
    {
     "data": {
      "text/plain": [
       "[21.0, 21.0, 21.0, 4.3, 6.15, 1.9, 10.9, 6.15]"
      ]
     },
     "execution_count": 75,
     "metadata": {},
     "output_type": "execute_result"
    }
   ],
   "source": [
    "# average rank for each simple policy\n",
    "[np.mean(arr[1]) for arr in policy_data]"
   ]
  },
  {
   "cell_type": "markdown",
   "metadata": {},
   "source": [
    "## Sine Price Function"
   ]
  },
  {
   "cell_type": "code",
   "execution_count": 11,
   "metadata": {},
   "outputs": [
    {
     "ename": "KeyboardInterrupt",
     "evalue": "",
     "output_type": "error",
     "traceback": [
      "\u001b[1;31m---------------------------------------------------------------------------\u001b[0m",
      "\u001b[1;31mKeyboardInterrupt\u001b[0m                         Traceback (most recent call last)",
      "\u001b[1;32mc:\\Users\\Albert Wen\\github\\marketSimulationIEOR174\\final_sim.ipynb Cell 18\u001b[0m in \u001b[0;36m<cell line: 4>\u001b[1;34m()\u001b[0m\n\u001b[0;32m      <a href='vscode-notebook-cell:/c%3A/Users/Albert%20Wen/github/marketSimulationIEOR174/final_sim.ipynb#Y103sZmlsZQ%3D%3D?line=7'>8</a>\u001b[0m summaries \u001b[39m=\u001b[39m []\n\u001b[0;32m     <a href='vscode-notebook-cell:/c%3A/Users/Albert%20Wen/github/marketSimulationIEOR174/final_sim.ipynb#Y103sZmlsZQ%3D%3D?line=9'>10</a>\u001b[0m \u001b[39mfor\u001b[39;00m iteration \u001b[39min\u001b[39;00m \u001b[39mrange\u001b[39m(\u001b[39m20\u001b[39m): \u001b[39m# run 10 simulations\u001b[39;00m\n\u001b[1;32m---> <a href='vscode-notebook-cell:/c%3A/Users/Albert%20Wen/github/marketSimulationIEOR174/final_sim.ipynb#Y103sZmlsZQ%3D%3D?line=10'>11</a>\u001b[0m     e \u001b[39m=\u001b[39m simulate(price_function, execute_policy, policy_number\u001b[39m=\u001b[39;49mpolicy_num, agent_arrival_rate\u001b[39m=\u001b[39;49m\u001b[39m0.1\u001b[39;49m, taker_probability\u001b[39m=\u001b[39;49m\u001b[39m0.4\u001b[39;49m, n\u001b[39m=\u001b[39;49m\u001b[39m100000\u001b[39;49m)\n\u001b[0;32m     <a href='vscode-notebook-cell:/c%3A/Users/Albert%20Wen/github/marketSimulationIEOR174/final_sim.ipynb#Y103sZmlsZQ%3D%3D?line=11'>12</a>\u001b[0m     summary, profit \u001b[39m=\u001b[39m summarize_transactions(e, price_function, num_agents\u001b[39m=\u001b[39m\u001b[39m20\u001b[39m)\n\u001b[0;32m     <a href='vscode-notebook-cell:/c%3A/Users/Albert%20Wen/github/marketSimulationIEOR174/final_sim.ipynb#Y103sZmlsZQ%3D%3D?line=12'>13</a>\u001b[0m     summaries\u001b[39m.\u001b[39mappend(summary)\n",
      "File \u001b[1;32mc:\\Users\\Albert Wen\\github\\marketSimulationIEOR174\\simulation.py:42\u001b[0m, in \u001b[0;36msimulate\u001b[1;34m(price_fnc, policy_fnc, policy_number, agent_arrival_rate, taker_probability, n)\u001b[0m\n\u001b[0;32m     39\u001b[0m     mvn_means \u001b[39m=\u001b[39m [\u001b[39m2\u001b[39m, \u001b[39m0\u001b[39m]\n\u001b[0;32m     40\u001b[0m     mvn_cov \u001b[39m=\u001b[39m [[\u001b[39m9\u001b[39m, \u001b[39m-\u001b[39m\u001b[39m5.625\u001b[39m], [\u001b[39m-\u001b[39m\u001b[39m5.625\u001b[39m, \u001b[39m6.25\u001b[39m]]\n\u001b[1;32m---> 42\u001b[0m     a \u001b[39m=\u001b[39m Maker((mvn_skews, mvn_means, mvn_cov), order_duration_sd, theo_sd, price_function(e\u001b[39m.\u001b[39;49mget_timestamp() \u001b[39m-\u001b[39;49m \u001b[39m5\u001b[39;49m), customer_id)\n\u001b[0;32m     44\u001b[0m \u001b[39melse\u001b[39;00m: \n\u001b[0;32m     45\u001b[0m     mvn_skews \u001b[39m=\u001b[39m [\u001b[39m8\u001b[39m, \u001b[39m0\u001b[39m]\n",
      "File \u001b[1;32mc:\\Users\\Albert Wen\\github\\marketSimulationIEOR174\\agents.py:104\u001b[0m, in \u001b[0;36mMaker.__init__\u001b[1;34m(self, aggression_params, order_time_sd, theo_sd, true_value, cid)\u001b[0m\n\u001b[0;32m    100\u001b[0m \u001b[39msuper\u001b[39m()\u001b[39m.\u001b[39m\u001b[39m__init__\u001b[39m(theo_sd, true_value, cid)\n\u001b[0;32m    102\u001b[0m mvn_skews, mvn_means, mvn_cov \u001b[39m=\u001b[39m aggression_params\n\u001b[1;32m--> 104\u001b[0m \u001b[39mself\u001b[39m\u001b[39m.\u001b[39mspread, \u001b[39mself\u001b[39m\u001b[39m.\u001b[39mquantity \u001b[39m=\u001b[39m multivariate_skewnorm(mvn_skews, mvn_means, mvn_cov)\u001b[39m.\u001b[39;49mrvs(size\u001b[39m=\u001b[39;49m\u001b[39m1\u001b[39;49m)\n\u001b[0;32m    105\u001b[0m \u001b[39mself\u001b[39m\u001b[39m.\u001b[39mspread \u001b[39m=\u001b[39m \u001b[39mround\u001b[39m(\u001b[39mself\u001b[39m\u001b[39m.\u001b[39mspread)\n\u001b[0;32m    106\u001b[0m \u001b[39mself\u001b[39m\u001b[39m.\u001b[39mquantity \u001b[39m=\u001b[39m \u001b[39mround\u001b[39m(\u001b[39mabs\u001b[39m(\u001b[39mself\u001b[39m\u001b[39m.\u001b[39mquantity))\n",
      "File \u001b[1;32mc:\\Users\\Albert Wen\\github\\marketSimulationIEOR174\\multivariate_skewnorm.py:29\u001b[0m, in \u001b[0;36mmultivariate_skewnorm.rvs\u001b[1;34m(self, size)\u001b[0m\n\u001b[0;32m     26\u001b[0m delta    \u001b[39m=\u001b[39m (\u001b[39m1\u001b[39m \u001b[39m/\u001b[39m np\u001b[39m.\u001b[39msqrt(\u001b[39m1\u001b[39m \u001b[39m+\u001b[39m aCa)) \u001b[39m*\u001b[39m \u001b[39mself\u001b[39m\u001b[39m.\u001b[39mcov \u001b[39m@\u001b[39m \u001b[39mself\u001b[39m\u001b[39m.\u001b[39mshape\n\u001b[0;32m     27\u001b[0m cov_star \u001b[39m=\u001b[39m np\u001b[39m.\u001b[39mblock([[np\u001b[39m.\u001b[39mones(\u001b[39m1\u001b[39m),     delta],\n\u001b[0;32m     28\u001b[0m                     [delta[:, \u001b[39mNone\u001b[39;00m], \u001b[39mself\u001b[39m\u001b[39m.\u001b[39mcov]])\n\u001b[1;32m---> 29\u001b[0m x        \u001b[39m=\u001b[39m mvn(np\u001b[39m.\u001b[39;49mzeros(\u001b[39mself\u001b[39;49m\u001b[39m.\u001b[39;49mdim\u001b[39m+\u001b[39;49m\u001b[39m1\u001b[39;49m), cov_star)\u001b[39m.\u001b[39;49mrvs(size)\n\u001b[0;32m     30\u001b[0m \u001b[39mif\u001b[39;00m size \u001b[39m==\u001b[39m \u001b[39m1\u001b[39m:\n\u001b[0;32m     31\u001b[0m     x0, x1 \u001b[39m=\u001b[39m x[\u001b[39m0\u001b[39m], x[\u001b[39m1\u001b[39m:]\n",
      "File \u001b[1;32mc:\\Users\\Albert Wen\\anaconda3\\envs\\ml\\lib\\site-packages\\scipy\\stats\\_multivariate.py:756\u001b[0m, in \u001b[0;36mmultivariate_normal_frozen.rvs\u001b[1;34m(self, size, random_state)\u001b[0m\n\u001b[0;32m    755\u001b[0m \u001b[39mdef\u001b[39;00m \u001b[39mrvs\u001b[39m(\u001b[39mself\u001b[39m, size\u001b[39m=\u001b[39m\u001b[39m1\u001b[39m, random_state\u001b[39m=\u001b[39m\u001b[39mNone\u001b[39;00m):\n\u001b[1;32m--> 756\u001b[0m     \u001b[39mreturn\u001b[39;00m \u001b[39mself\u001b[39;49m\u001b[39m.\u001b[39;49m_dist\u001b[39m.\u001b[39;49mrvs(\u001b[39mself\u001b[39;49m\u001b[39m.\u001b[39;49mmean, \u001b[39mself\u001b[39;49m\u001b[39m.\u001b[39;49mcov, size, random_state)\n",
      "File \u001b[1;32mc:\\Users\\Albert Wen\\anaconda3\\envs\\ml\\lib\\site-packages\\scipy\\stats\\_multivariate.py:653\u001b[0m, in \u001b[0;36mmultivariate_normal_gen.rvs\u001b[1;34m(self, mean, cov, size, random_state)\u001b[0m\n\u001b[0;32m    650\u001b[0m dim, mean, cov \u001b[39m=\u001b[39m \u001b[39mself\u001b[39m\u001b[39m.\u001b[39m_process_parameters(\u001b[39mNone\u001b[39;00m, mean, cov)\n\u001b[0;32m    652\u001b[0m random_state \u001b[39m=\u001b[39m \u001b[39mself\u001b[39m\u001b[39m.\u001b[39m_get_random_state(random_state)\n\u001b[1;32m--> 653\u001b[0m out \u001b[39m=\u001b[39m random_state\u001b[39m.\u001b[39;49mmultivariate_normal(mean, cov, size)\n\u001b[0;32m    654\u001b[0m \u001b[39mreturn\u001b[39;00m _squeeze_output(out)\n",
      "File \u001b[1;32mmtrand.pyx:4120\u001b[0m, in \u001b[0;36mnumpy.random.mtrand.RandomState.multivariate_normal\u001b[1;34m()\u001b[0m\n",
      "File \u001b[1;32m<__array_function__ internals>:2\u001b[0m, in \u001b[0;36msvd\u001b[1;34m(*args, **kwargs)\u001b[0m\n",
      "\u001b[1;31mKeyboardInterrupt\u001b[0m: "
     ]
    }
   ],
   "source": [
    "%%capture\n",
    "\n",
    "price_function = lambda t: np.sin(t / 500) * 10 + 100\n",
    "\n",
    "policy_data = []\n",
    "for policy_num in range(8):\n",
    "    profits = []\n",
    "    ranks = []\n",
    "    exchanges = []\n",
    "    summaries = []\n",
    "\n",
    "    for iteration in range(20): # run 10 simulations\n",
    "        e = simulate(price_function, execute_policy, policy_number=policy_num, agent_arrival_rate=0.1, taker_probability=0.4, n=100000)\n",
    "        summary, profit = summarize_transactions(e, price_function, num_agents=20)\n",
    "        summaries.append(summary)\n",
    "        exchanges.append(e)\n",
    "\n",
    "        if len(profit[profit.index % 1 == 0.5]) == 0:\n",
    "            p = 0 \n",
    "            rank = None\n",
    "        else: \n",
    "            p = profit[profit.index % 1 == 0.5].iloc[0, -1]\n",
    "            rank = list(profit.index % 1).index(0.5) + 1\n",
    "        profits.append(p)\n",
    "        ranks.append(rank)\n",
    "\n",
    "    policy_data.append((profits, ranks, exchanges, summaries))\n",
    "# average profit for each simple policy\n",
    "[np.mean(arr[0]) for arr in policy_data]\n",
    "# average rank for each simple policy\n",
    "[np.mean(arr[1]) for arr in policy_data]"
   ]
  },
  {
   "cell_type": "code",
   "execution_count": null,
   "metadata": {},
   "outputs": [
    {
     "data": {
      "text/plain": [
       "[9747.194688442489,\n",
       " 6148.274651557542,\n",
       " 673.8184190494035,\n",
       " 1150.3300414527773,\n",
       " 1158.4746149092548,\n",
       " 1021.6048162004463,\n",
       " 778.8282858233193,\n",
       " 268.3965249624733]"
      ]
     },
     "execution_count": 55,
     "metadata": {},
     "output_type": "execute_result"
    }
   ],
   "source": [
    "# average profit for each simple policy\n",
    "[np.mean(arr[0]) for arr in policy_data]"
   ]
  },
  {
   "cell_type": "code",
   "execution_count": null,
   "metadata": {},
   "outputs": [
    {
     "data": {
      "text/plain": [
       "[1.0, 1.0, 3.3, 2.05, 2.25, 2.7, 4.1, 8.3]"
      ]
     },
     "execution_count": 56,
     "metadata": {},
     "output_type": "execute_result"
    }
   ],
   "source": [
    "# average rank for each simple policy\n",
    "[np.mean(arr[1]) for arr in policy_data]"
   ]
  },
  {
   "cell_type": "markdown",
   "metadata": {},
   "source": [
    "## Exponential Price Function"
   ]
  },
  {
   "cell_type": "code",
   "execution_count": 57,
   "metadata": {},
   "outputs": [],
   "source": [
    "%%capture\n",
    "\n",
    "price_function = lambda t: t * np.exp(t / 10000) + 100\n",
    "\n",
    "policy_data = []\n",
    "for policy_num in range(8):\n",
    "    profits = []\n",
    "    ranks = []\n",
    "    exchanges = []\n",
    "    summaries = []\n",
    "\n",
    "    for iteration in range(20): # run 10 simulations\n",
    "        e = simulate(price_function, execute_policy, policy_number=policy_num, agent_arrival_rate=0.1, taker_probability=0.4, n=100000)\n",
    "        summary, profit = summarize_transactions(e, price_function, num_agents=20)\n",
    "        summaries.append(summary)\n",
    "        exchanges.append(e)\n",
    "\n",
    "        if len(profit[profit.index % 1 == 0.5]) == 0:\n",
    "            p = 0 \n",
    "            rank = None\n",
    "        else: \n",
    "            p = profit[profit.index % 1 == 0.5].iloc[0, -1]\n",
    "            rank = list(profit.index % 1).index(0.5) + 1\n",
    "        profits.append(p)\n",
    "        ranks.append(rank)\n",
    "\n",
    "    policy_data.append((profits, ranks, exchanges, summaries))\n",
    "# average profit for each simple policy\n",
    "[np.mean(arr[0]) for arr in policy_data]\n",
    "# average rank for each simple policy\n",
    "[np.mean(arr[1]) for arr in policy_data]"
   ]
  },
  {
   "cell_type": "code",
   "execution_count": 58,
   "metadata": {},
   "outputs": [
    {
     "data": {
      "text/plain": [
       "[-629071720856.7079,\n",
       " -703955893315.9158,\n",
       " -92270618453.07802,\n",
       " -110805064792.34229,\n",
       " -254455499232.09604,\n",
       " -72965454515.67749,\n",
       " -81440425045.16817,\n",
       " -4601431623.409572]"
      ]
     },
     "execution_count": 58,
     "metadata": {},
     "output_type": "execute_result"
    }
   ],
   "source": [
    "# average profit for each simple policy\n",
    "[np.mean(arr[0]) for arr in policy_data]"
   ]
  },
  {
   "cell_type": "code",
   "execution_count": 59,
   "metadata": {},
   "outputs": [
    {
     "data": {
      "text/plain": [
       "[21.0, 21.0, 17.15, 17.7, 20.8, 15.6, 16.15, 11.25]"
      ]
     },
     "execution_count": 59,
     "metadata": {},
     "output_type": "execute_result"
    }
   ],
   "source": [
    "# average rank for each simple policy\n",
    "[np.mean(arr[1]) for arr in policy_data]"
   ]
  },
  {
   "cell_type": "markdown",
   "metadata": {},
   "source": [
    "## Linear Decreasing Function"
   ]
  },
  {
   "cell_type": "code",
   "execution_count": 69,
   "metadata": {},
   "outputs": [],
   "source": [
    "%%capture\n",
    "\n",
    "price_function = lambda t: -0.003*t + 100\n",
    "\n",
    "policy_data = []\n",
    "for policy_num in range(8):\n",
    "    profits = []\n",
    "    ranks = []\n",
    "    exchanges = []\n",
    "    summaries = []\n",
    "\n",
    "    for iteration in range(20): # run 10 simulations\n",
    "        e = simulate(price_function, execute_policy, policy_number=policy_num, agent_arrival_rate=0.1, taker_probability=0.4, n=100000)\n",
    "        summary, profit = summarize_transactions(e, price_function, num_agents=20)\n",
    "        summaries.append(summary)\n",
    "        exchanges.append(e)\n",
    "\n",
    "        if len(profit[profit.index % 1 == 0.5]) == 0:\n",
    "            p = 0 \n",
    "            rank = None\n",
    "        else: \n",
    "            p = profit[profit.index % 1 == 0.5].iloc[0, -1]\n",
    "            rank = list(profit.index % 1).index(0.5) + 1\n",
    "        profits.append(p)\n",
    "        ranks.append(rank)\n",
    "\n",
    "    policy_data.append((profits, ranks, exchanges, summaries))"
   ]
  },
  {
   "cell_type": "code",
   "execution_count": 70,
   "metadata": {},
   "outputs": [
    {
     "data": {
      "text/plain": [
       "[-579833.7842418246,\n",
       " -585604.809501467,\n",
       " -58598.445777119116,\n",
       " 11674.257029027498,\n",
       " 9353.793755826515,\n",
       " 16895.392594409175,\n",
       " 401.0830512559278,\n",
       " 4178.601003007083]"
      ]
     },
     "execution_count": 70,
     "metadata": {},
     "output_type": "execute_result"
    }
   ],
   "source": [
    "# average profit for each simple policy\n",
    "[np.mean(arr[0]) for arr in policy_data]"
   ]
  },
  {
   "cell_type": "code",
   "execution_count": 71,
   "metadata": {},
   "outputs": [
    {
     "data": {
      "text/plain": [
       "[21.0, 21.0, 21.0, 4.55, 5.55, 2.75, 10.5, 7.95]"
      ]
     },
     "execution_count": 71,
     "metadata": {},
     "output_type": "execute_result"
    }
   ],
   "source": [
    "# average rank for each simple policy\n",
    "[np.mean(arr[1]) for arr in policy_data]"
   ]
  },
  {
   "cell_type": "markdown",
   "metadata": {},
   "source": [
    "## Polynomial Increasing Function"
   ]
  },
  {
   "cell_type": "code",
   "execution_count": 89,
   "metadata": {},
   "outputs": [],
   "source": [
    "%%capture\n",
    "\n",
    "price_function = lambda t: (t + 20) ** 0.5 + 100\n",
    "\n",
    "policy_data = []\n",
    "for policy_num in range(8):\n",
    "    profits = []\n",
    "    ranks = []\n",
    "    exchanges = []\n",
    "    summaries = []\n",
    "\n",
    "    for iteration in range(20): # run 10 simulations\n",
    "        e = simulate(price_function, execute_policy, policy_number=policy_num, agent_arrival_rate=0.1, taker_probability=0.4, n=100000)\n",
    "        summary, profit = summarize_transactions(e, price_function, num_agents=20)\n",
    "        summaries.append(summary)\n",
    "        exchanges.append(e)\n",
    "\n",
    "        if len(profit[profit.index % 1 == 0.5]) == 0:\n",
    "            p = 0 \n",
    "            rank = None\n",
    "        else: \n",
    "            p = profit[profit.index % 1 == 0.5].iloc[0, -1]\n",
    "            rank = list(profit.index % 1).index(0.5) + 1\n",
    "        profits.append(p)\n",
    "        ranks.append(rank)\n",
    "\n",
    "    policy_data.append((profits, ranks, exchanges, summaries))"
   ]
  },
  {
   "cell_type": "code",
   "execution_count": 90,
   "metadata": {},
   "outputs": [
    {
     "data": {
      "text/plain": [
       "[-615542.9985465327,\n",
       " -620095.6546158987,\n",
       " -61981.60824848288,\n",
       " 8171.099992865976,\n",
       " 4480.639667714809,\n",
       " 10592.633725972233,\n",
       " 2518.2812300160786,\n",
       " 8873.40225411972]"
      ]
     },
     "execution_count": 90,
     "metadata": {},
     "output_type": "execute_result"
    }
   ],
   "source": [
    "# average profit for each simple policy\n",
    "[np.mean(arr[0]) for arr in policy_data]"
   ]
  },
  {
   "cell_type": "code",
   "execution_count": 91,
   "metadata": {},
   "outputs": [
    {
     "data": {
      "text/plain": [
       "[21.0, 21.0, 21.0, 4.4, 6.95, 2.85, 8.45, 3.25]"
      ]
     },
     "execution_count": 91,
     "metadata": {},
     "output_type": "execute_result"
    }
   ],
   "source": [
    "# average rank for each simple policy\n",
    "[np.mean(arr[1]) for arr in policy_data]"
   ]
  },
  {
   "cell_type": "markdown",
   "metadata": {},
   "source": [
    "## Polynomial Decreasing Function"
   ]
  },
  {
   "cell_type": "code",
   "execution_count": null,
   "metadata": {},
   "outputs": [],
   "source": [
    "%%capture\n",
    "\n",
    "price_function = lambda t: -(t+20) ** 0.5 + 200\n",
    "\n",
    "policy_data = []\n",
    "for policy_num in range(8):\n",
    "    profits = []\n",
    "    ranks = []\n",
    "    exchanges = []\n",
    "    summaries = []\n",
    "\n",
    "    for iteration in range(20): # run 10 simulations\n",
    "        e = simulate(price_function, execute_policy, policy_number=policy_num, agent_arrival_rate=0.1, taker_probability=0.4, n=100000)\n",
    "        summary, profit = summarize_transactions(e, price_function, num_agents=20)\n",
    "        summaries.append(summary)\n",
    "        exchanges.append(e)\n",
    "\n",
    "        if len(profit[profit.index % 1 == 0.5]) == 0:\n",
    "            p = 0 \n",
    "            rank = None\n",
    "        else: \n",
    "            p = profit[profit.index % 1 == 0.5].iloc[0, -1]\n",
    "            rank = list(profit.index % 1).index(0.5) + 1\n",
    "        profits.append(p)\n",
    "        ranks.append(rank)\n",
    "\n",
    "    policy_data.append((profits, ranks, exchanges, summaries))"
   ]
  },
  {
   "cell_type": "code",
   "execution_count": 1,
   "metadata": {},
   "outputs": [
    {
     "ename": "NameError",
     "evalue": "name 'policy_data' is not defined",
     "output_type": "error",
     "traceback": [
      "\u001b[1;31m---------------------------------------------------------------------------\u001b[0m",
      "\u001b[1;31mNameError\u001b[0m                                 Traceback (most recent call last)",
      "\u001b[1;32mc:\\Users\\Albert Wen\\github\\marketSimulationIEOR174\\final_sim.ipynb Cell 34\u001b[0m in \u001b[0;36m<cell line: 2>\u001b[1;34m()\u001b[0m\n\u001b[0;32m      <a href='vscode-notebook-cell:/c%3A/Users/Albert%20Wen/github/marketSimulationIEOR174/final_sim.ipynb#Y142sZmlsZQ%3D%3D?line=0'>1</a>\u001b[0m \u001b[39m# average profit for each simple policy\u001b[39;00m\n\u001b[1;32m----> <a href='vscode-notebook-cell:/c%3A/Users/Albert%20Wen/github/marketSimulationIEOR174/final_sim.ipynb#Y142sZmlsZQ%3D%3D?line=1'>2</a>\u001b[0m [np\u001b[39m.\u001b[39mmean(arr[\u001b[39m0\u001b[39m]) \u001b[39mfor\u001b[39;00m arr \u001b[39min\u001b[39;00m policy_data]\n",
      "\u001b[1;31mNameError\u001b[0m: name 'policy_data' is not defined"
     ]
    }
   ],
   "source": [
    "# average profit for each simple policy\n",
    "[np.mean(arr[0]) for arr in policy_data]"
   ]
  },
  {
   "cell_type": "code",
   "execution_count": 94,
   "metadata": {},
   "outputs": [
    {
     "data": {
      "text/plain": [
       "[21.0, 21.0, 21.0, 4.1, 7.35, 3.35, 10.05, 5.0]"
      ]
     },
     "execution_count": 94,
     "metadata": {},
     "output_type": "execute_result"
    }
   ],
   "source": [
    "# average rank for each simple policy\n",
    "[np.mean(arr[1]) for arr in policy_data]"
   ]
  },
  {
   "cell_type": "markdown",
   "metadata": {},
   "source": [
    "## Polynomial Side"
   ]
  },
  {
   "cell_type": "code",
   "execution_count": 12,
   "metadata": {},
   "outputs": [],
   "source": [
    "price_function = lambda t: -0.000005 * t ** 2 + 0.05 * t + 100 + np.sin(t / 500) * 30"
   ]
  },
  {
   "cell_type": "code",
   "execution_count": 7,
   "metadata": {},
   "outputs": [
    {
     "ename": "",
     "evalue": "",
     "output_type": "error",
     "traceback": [
      "\u001b[1;31mCanceled future for execute_request message before replies were done"
     ]
    },
    {
     "ename": "",
     "evalue": "",
     "output_type": "error",
     "traceback": [
      "\u001b[1;31mThe Kernel crashed while executing code in the the current cell or a previous cell. Please review the code in the cell(s) to identify a possible cause of the failure. Click <a href='https://aka.ms/vscodeJupyterKernelCrash'>here</a> for more info. View Jupyter <a href='command:jupyter.viewOutput'>log</a> for further details."
     ]
    }
   ],
   "source": [
    "price_function = lambda t: -0.000005 * (t + 50) ** 2 + 0.05 * (t+50) + 100\n",
    "\n",
    "policy_data = []\n",
    "for policy_num in range(8):\n",
    "    profits = []\n",
    "    ranks = []\n",
    "    exchanges = []\n",
    "    summaries = []\n",
    "\n",
    "    for iteration in range(20): # run 10 simulations\n",
    "        e = simulate(price_function, execute_policy, policy_number=policy_num, agent_arrival_rate=0.1, taker_probability=0.4, n=100000)\n",
    "        summary, profit = summarize_transactions(e, price_function, num_agents=20)\n",
    "        summaries.append(summary)\n",
    "        exchanges.append(e)\n",
    "\n",
    "        if len(profit[profit.index % 1 == 0.5]) == 0:\n",
    "            p = 0 \n",
    "            rank = None\n",
    "        else: \n",
    "            p = profit[profit.index % 1 == 0.5].iloc[0, -1]\n",
    "            rank = list(profit.index % 1).index(0.5) + 1\n",
    "        profits.append(p)\n",
    "        ranks.append(rank)\n",
    "\n",
    "    policy_data.append((profits, ranks, exchanges, summaries))"
   ]
  },
  {
   "cell_type": "code",
   "execution_count": null,
   "metadata": {},
   "outputs": [
    {
     "data": {
      "text/plain": [
       "[-331153.55503118125,\n",
       " -335745.44947740587,\n",
       " -33674.97183319397,\n",
       " 9614.32542325389,\n",
       " 4181.526551202818,\n",
       " 10389.83220403835,\n",
       " 712.4660710100706,\n",
       " 7080.000915317076]"
      ]
     },
     "metadata": {},
     "output_type": "display_data"
    }
   ],
   "source": [
    "# average profit for each simple policy\n",
    "[np.mean(arr[0]) for arr in policy_data]"
   ]
  },
  {
   "cell_type": "code",
   "execution_count": null,
   "metadata": {},
   "outputs": [
    {
     "data": {
      "text/plain": [
       "[21.0, 21.0, 21.0, 4.1, 7.35, 3.35, 10.05, 5.0]"
      ]
     },
     "metadata": {},
     "output_type": "display_data"
    }
   ],
   "source": [
    "# average rank for each simple policy\n",
    "[np.mean(arr[1]) for arr in policy_data]"
   ]
  }
 ],
 "metadata": {
  "kernelspec": {
   "display_name": "Python 3.9.12 ('ml')",
   "language": "python",
   "name": "python3"
  },
  "language_info": {
   "codemirror_mode": {
    "name": "ipython",
    "version": 3
   },
   "file_extension": ".py",
   "mimetype": "text/x-python",
   "name": "python",
   "nbconvert_exporter": "python",
   "pygments_lexer": "ipython3",
   "version": "3.9.12"
  },
  "orig_nbformat": 4,
  "vscode": {
   "interpreter": {
    "hash": "c09d1698212c735a3443dc0423fe58b563a1b228e762256a81505a70ae1393dc"
   }
  }
 },
 "nbformat": 4,
 "nbformat_minor": 2
}
