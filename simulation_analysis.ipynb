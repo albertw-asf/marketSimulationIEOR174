{
 "cells": [
  {
   "cell_type": "code",
   "execution_count": 1,
   "metadata": {},
   "outputs": [],
   "source": [
    "import pandas as pd\n",
    "import numpy as np\n",
    "\n",
    "import matplotlib.pyplot as plt\n",
    "import random\n",
    "from scipy.stats import bernoulli\n",
    "\n",
    "from exchange import *\n",
    "from agents import *\n",
    "from simulation import *"
   ]
  },
  {
   "cell_type": "code",
   "execution_count": 2,
   "metadata": {},
   "outputs": [],
   "source": [
    "def execute_policy(e: Exchange, price_function, policy_number: int):\n",
    "    # main character params: true_value, quantity, side, spread, cid\n",
    "\n",
    "    if list(e.bids.keys()) != [] and list(e.asks.keys()) != []:\n",
    "        tob_bid = max(e.bids.keys())\n",
    "        tob_ask = min(e.asks.keys())\n",
    "    else: \n",
    "        return\n",
    "    current_true_value = price_function(e.get_timestamp())\n",
    "\n",
    "    policies = []\n",
    "\n",
    "    ### quote 6 wide around 100 ###\n",
    "    policies.append(MainCharacter(true_value=100, quantity=10, side=\"AB\", spread=3, cid=-1.5))\n",
    "\n",
    "    ### quote 2 wide around 100 ### \n",
    "    policies.append(MainCharacter(true_value=100, quantity=10, side=\"AB\", spread=1, cid=-2.5))\n",
    "\n",
    "    ### quote 2 wide around 100, quantity 1 ###\n",
    "    policies.append(MainCharacter(true_value=100, quantity=1, side=\"AB\", spread=1, cid=-3.5))\n",
    "\n",
    "    ### quote 2 wide around true val (perfect information) ###\n",
    "    policies.append(MainCharacter(true_value = price_function(e.get_timestamp()), quantity=5, side=\"AB\", spread=1, cid=-4.5))\n",
    "\n",
    "    ### quote 2 wide around true val 10 timestamps ago ### \n",
    "    policies.append(MainCharacter(true_value=price_function(e.get_timestamp() - 10), quantity=5, side=\"AB\", spread=1, cid=-5.5))\n",
    "\n",
    "    ### quote 2 wide around true value 10 timestamps into future ###\n",
    "    policies.append(MainCharacter(true_value=price_function(e.get_timestamp() + 10), quantity=5, side=\"AB\", spread=1, cid=-6.5))\n",
    "\n",
    "    ### quote 6 wide around true value  ###\n",
    "    policies.append(MainCharacter(true_value=price_function(e.get_timestamp() + 10), quantity=5, side=\"AB\", spread=3, cid=-7.5))\n",
    "\n",
    "    ### psychic far looking wide policy ###\n",
    "    policies.append(MainCharacter(true_value=price_function(e.get_timestamp() + 50), quantity=5, side=\"AB\", spread=3, cid=-8.5))\n",
    "\n",
    "    a = policies[policy_number]\n",
    "\n",
    "    if policy_number <= 7:\n",
    "        if a.cid not in list(e.ask_customers.keys()) and a.cid not in list(e.bid_customers.keys()):\n",
    "            e.add_order(a)\n",
    "        return\n",
    "\n",
    "    ### quote 1 ticks from top of book ### \n",
    "    if policy_number == 8:\n",
    "        b = MainCharacter(true_value=tob_bid, quantity=5, side=\"B\", spread=1, cid=-9.5)\n",
    "        a = MainCharacter(true_value=tob_ask, quantity=5, side=\"A\", spread=1, cid=-9.5)\n",
    "        if a.cid not in list(e.ask_customers.keys()):\n",
    "            e.add_order(a)\n",
    "        if b.cid not in list(e.bid_customers.keys()):\n",
    "            e.add_order(b)\n",
    "\n",
    "    #TODO: this seems bugged\n",
    "    ### long-short taking strategy ###\n",
    "    if policy_number == 9:\n",
    "        if tob_ask < current_true_value:\n",
    "            b = MainCharacter(true_value=tob_ask, quantity=min(10, e.asks[tob_ask]), side=\"B\", spread=0, cid=-10.5)\n",
    "            e.add_order(b)\n",
    "        if tob_bid > current_true_value:\n",
    "            a = MainCharacter(true_value=tob_bid, quantity=min(10, e.bids[tob_bid]), side=\"A\", spread=0, cid=-10.5)\n",
    "            e.add_order(a)"
   ]
  },
  {
   "cell_type": "code",
   "execution_count": 5,
   "metadata": {},
   "outputs": [],
   "source": [
    "%%capture\n",
    "\n",
    "price_function = lambda t: 0.003*t + 100\n",
    "\n",
    "policy_num = 5\n",
    "profits = []\n",
    "ranks = []\n",
    "exchanges = []\n",
    "summaries = []\n",
    "\n",
    "for iteration in range(200): # run 200 simulations\n",
    "    e = simulate(price_function, execute_policy, policy_number=policy_num, agent_arrival_rate=0.1, taker_probability=0.4, n=100000)\n",
    "    summary, profit = summarize_transactions(e, price_function, num_agents=20)\n",
    "    summaries.append(summary)\n",
    "    exchanges.append(e)\n",
    "\n",
    "    if len(profit[profit.index % 1 == 0.5]) == 0:\n",
    "        p = 0 \n",
    "        rank = None\n",
    "    else: \n",
    "        p = profit[profit.index % 1 == 0.5].iloc[0, -1]\n",
    "        rank = list(profit.index % 1).index(0.5) + 1\n",
    "    profits.append(p)\n",
    "    ranks.append(rank)"
   ]
  },
  {
   "cell_type": "code",
   "execution_count": 14,
   "metadata": {},
   "outputs": [],
   "source": [
    "import pickle as p\n",
    "import dill as pickle"
   ]
  },
  {
   "cell_type": "code",
   "execution_count": 15,
   "metadata": {},
   "outputs": [],
   "source": [
    "with open(\"exchange.pickle\", \"wb\") as output_file:\n",
    "    pickle.dump(exchanges, output_file)"
   ]
  },
  {
   "cell_type": "code",
   "execution_count": null,
   "metadata": {},
   "outputs": [],
   "source": [
    "''' \n",
    "- for each price function, determine best policy\n",
    "- demonstrate average arrival rate by looking at underlying exchange objects\n",
    "- track something like average order duration (for orders that get hit)\n",
    "- track balance between taker ratio and maker ratio for trades that occur (across different price functions)\n",
    "- determine: under what conditions do trades usually happen?\n",
    "''' "
   ]
  }
 ],
 "metadata": {
  "kernelspec": {
   "display_name": "Python 3.9.12 ('ml')",
   "language": "python",
   "name": "python3"
  },
  "language_info": {
   "codemirror_mode": {
    "name": "ipython",
    "version": 3
   },
   "file_extension": ".py",
   "mimetype": "text/x-python",
   "name": "python",
   "nbconvert_exporter": "python",
   "pygments_lexer": "ipython3",
   "version": "3.9.12"
  },
  "orig_nbformat": 4,
  "vscode": {
   "interpreter": {
    "hash": "c09d1698212c735a3443dc0423fe58b563a1b228e762256a81505a70ae1393dc"
   }
  }
 },
 "nbformat": 4,
 "nbformat_minor": 2
}
