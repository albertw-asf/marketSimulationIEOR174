{
 "cells": [
  {
   "cell_type": "code",
   "execution_count": 1,
   "metadata": {},
   "outputs": [],
   "source": [
    "import pandas as pd\n",
    "import numpy as np\n",
    "\n",
    "from exchange import *\n",
    "from agents import *\n",
    "\n",
    "import matplotlib.pyplot as plt\n",
    "import random\n",
    "from scipy.stats import bernoulli"
   ]
  },
  {
   "cell_type": "markdown",
   "metadata": {},
   "source": [
    "# Exchange Visualization"
   ]
  },
  {
   "cell_type": "code",
   "execution_count": 2,
   "metadata": {},
   "outputs": [],
   "source": [
    "e = Exchange()"
   ]
  },
  {
   "cell_type": "code",
   "execution_count": 3,
   "metadata": {},
   "outputs": [],
   "source": [
    "e.add_bid(100, 5, \"1\")\n",
    "e.add_bid(102, 2, \"2\")\n",
    "e.add_bid(103, 3, \"3\")\n",
    "e.add_bid(104, 4, \"4\")\n",
    "e.add_bid(105, 10, \"5\")\n",
    "e.add_ask(106, 8, \"6\")\n",
    "e.add_ask(107, 3, \"7\")\n",
    "e.add_ask(109, 12, \"8\")\n",
    "e.add_ask(110, 6, \"9\")\n",
    "e.add_ask(115, 4, \"10\")"
   ]
  },
  {
   "cell_type": "code",
   "execution_count": 4,
   "metadata": {},
   "outputs": [],
   "source": [
    "def show_exchange(exchange):\n",
    "    bidPrices = list(exchange.bids.keys())\n",
    "    bidQtys = list(exchange.bids.values())\n",
    "    askPrices = list(exchange.asks.keys())\n",
    "    askQtys = list(exchange.asks.values())\n",
    "\n",
    "    plt.figure(figsize=(3, 5))\n",
    "    plt.barh(bidPrices, bidQtys, color=\"green\", label=f\"bid qty: {sum(bidQtys)}\")\n",
    "    plt.barh(askPrices, askQtys, color=\"red\", label=f\"ask qty: {sum(askQtys)}\")\n",
    "    plt.legend()\n",
    "    plt.ylabel(\"price\")\n",
    "    plt.xlabel(\"qty\")\n",
    "    plt.title(\"Exchange Ladder\")"
   ]
  },
  {
   "cell_type": "code",
   "execution_count": 5,
   "metadata": {},
   "outputs": [
    {
     "data": {
      "image/png": "[encoded data removed]",
      "text/plain": [
       "<Figure size 216x360 with 1 Axes>"
      ]
     },
     "metadata": {
      "needs_background": "light"
     },
     "output_type": "display_data"
    }
   ],
   "source": [
    "show_exchange(e)"
   ]
  },
  {
   "cell_type": "code",
   "execution_count": 6,
   "metadata": {},
   "outputs": [
    {
     "data": {
      "image/png": "[encoded data removed]",
      "text/plain": [
       "<Figure size 216x360 with 1 Axes>"
      ]
     },
     "metadata": {
      "needs_background": "light"
     },
     "output_type": "display_data"
    }
   ],
   "source": [
    "e.add_ask(105, 10, \"11\")\n",
    "show_exchange(e)"
   ]
  },
  {
   "cell_type": "markdown",
   "metadata": {},
   "source": [
    "# Simulation Elements"
   ]
  },
  {
   "cell_type": "code",
   "execution_count": 8,
   "metadata": {},
   "outputs": [
    {
     "data": {
      "text/plain": [
       "'\\n# TODO: agent arrival process\\n# TODO: agent cancel duration\\n# TODO: true price movement changing (variance over time)\\n# TODO: agent reading true price (with some noise)\\n# TODO: agent aggression level (bid / ask)\\n# TODO: agent interaction logic with exchange\\n'"
      ]
     },
     "execution_count": 8,
     "metadata": {},
     "output_type": "execute_result"
    }
   ],
   "source": [
    "'''\n",
    "# TODO: agent arrival process\n",
    "# TODO: agent cancel duration\n",
    "# TODO: true price movement changing (variance over time)\n",
    "# TODO: agent reading true price (with some noise)\n",
    "# TODO: agent aggression level (bid / ask)\n",
    "# TODO: agent interaction logic with exchange\n",
    "'''\n"
   ]
  },
  {
   "cell_type": "code",
   "execution_count": 9,
   "metadata": {},
   "outputs": [],
   "source": [
    "def check_agent_arrival(timestamp, time):\n",
    "    return time"
   ]
  },
  {
   "cell_type": "code",
   "execution_count": 10,
   "metadata": {},
   "outputs": [
    {
     "data": {
      "text/plain": [
       "0.7840667096449847"
      ]
     },
     "execution_count": 10,
     "metadata": {},
     "output_type": "execute_result"
    }
   ],
   "source": [
    "np.random.exponential()"
   ]
  },
  {
   "cell_type": "code",
   "execution_count": 11,
   "metadata": {},
   "outputs": [
    {
     "data": {
      "text/plain": [
       "[0.09051858392819233,\n",
       " 0.1252405828395679,\n",
       " 0.061868599455182714,\n",
       " 0.3292356592150499,\n",
       " 0.699699584226516,\n",
       " 0.745302846870097,\n",
       " 0.46509308016609985,\n",
       " 0.02851949407474439,\n",
       " 0.11478373879251977,\n",
       " 0.09971853682427148]"
      ]
     },
     "execution_count": 11,
     "metadata": {},
     "output_type": "execute_result"
    }
   ],
   "source": [
    "intervals = [random.expovariate(2) for i in range(10)]\n",
    "intervals"
   ]
  },
  {
   "cell_type": "code",
   "execution_count": 12,
   "metadata": {},
   "outputs": [
    {
     "data": {
      "text/plain": [
       "array([0.09051858, 0.21575917, 0.27762777, 0.60686343, 1.30656301,\n",
       "       2.05186586, 2.51695894, 2.54547843, 2.66026217, 2.75998071])"
      ]
     },
     "execution_count": 12,
     "metadata": {},
     "output_type": "execute_result"
    }
   ],
   "source": [
    "np.cumsum(intervals)"
   ]
  },
  {
   "cell_type": "code",
   "execution_count": 13,
   "metadata": {},
   "outputs": [
    {
     "data": {
      "text/plain": [
       "[<matplotlib.lines.Line2D at 0x7fcd99186070>]"
      ]
     },
     "execution_count": 13,
     "metadata": {},
     "output_type": "execute_result"
    },
    {
     "data": {
      "image/png": "[encoded data removed]",
      "text/plain": [
       "<Figure size 432x288 with 1 Axes>"
      ]
     },
     "metadata": {
      "needs_background": "light"
     },
     "output_type": "display_data"
    }
   ],
   "source": [
    "x = np.arange(0, 5 * 60 * 60)\n",
    "T = 60 * 5 # period\n",
    "y = np.sin(x / T)\n",
    "plt.plot(x, y)"
   ]
  },
  {
   "cell_type": "code",
   "execution_count": 14,
   "metadata": {},
   "outputs": [
    {
     "data": {
      "text/plain": [
       "0.13293862262231407"
      ]
     },
     "execution_count": 14,
     "metadata": {},
     "output_type": "execute_result"
    }
   ],
   "source": [
    "t = 40\n",
    "true_price = np.sin(t / T)\n",
    "true_price"
   ]
  },
  {
   "cell_type": "code",
   "execution_count": 15,
   "metadata": {},
   "outputs": [
    {
     "data": {
      "text/plain": [
       "1.1560386150956548"
      ]
     },
     "execution_count": 15,
     "metadata": {},
     "output_type": "execute_result"
    }
   ],
   "source": [
    "np.random.normal()"
   ]
  },
  {
   "cell_type": "code",
   "execution_count": null,
   "metadata": {},
   "outputs": [],
   "source": [
    "# pre-determine some true price curve as a function of time\n",
    "# can begin as uniform\n",
    "random.seed(88)\n",
    "\n",
    "### defining hyperparameters ###\n",
    "agent_arrival_rate = 10\n",
    "taker_probability = 0.2\n",
    "true_price_func = lambda t: np.sin(t / 5*60)\n",
    "\n",
    "while timestamp < 10: \n",
    "    timestamp = 0\n",
    "    customer_id = 0\n",
    "    \n",
    "    ### pseudo code this ###\n",
    "\n",
    "    # agent arrives by some exponential inter-arrival time simulating poisson\n",
    "    # increment timestamp by exponential variable\n",
    "    # calculate agent's characteristics (aggression level, theo value, cancel duration)\n",
    "    # first check existing cancel queue, remove orders if necessary\n",
    "    # add agent's bid/asks to exchange\n",
    "    # plot exchange\n",
    "    # sidenote: also need to increment customerids\n",
    "\n",
    "    # add in own policy logic \n",
    "\n",
    "    ### ------------------------------------------------------------ ###\n",
    "\n",
    "    # agents arrive at same rate, some probability they are maker vs taker\n",
    "    agent_arrival_time = random.expovariate(agent_arrival_rate)\n",
    "\n",
    "    # aggressiveness = a.get_aggressiveness()\n",
    "    # cancel_duration = a.get_cancel_duration()\n",
    "\n",
    "    agent_is_taker = random.random() < taker_probability\n",
    "    if agent_is_taker:\n",
    "        a = Taker()\n",
    "    else: \n",
    "        a = Maker()"
   ]
  },
  {
   "cell_type": "code",
   "execution_count": 16,
   "metadata": {},
   "outputs": [],
   "source": [
    "from scipy.stats import skewnorm, norm"
   ]
  },
  {
   "cell_type": "code",
   "execution_count": 32,
   "metadata": {},
   "outputs": [
    {
     "data": {
      "text/plain": [
       "array([2.34944778])"
      ]
     },
     "execution_count": 32,
     "metadata": {},
     "output_type": "execute_result"
    }
   ],
   "source": [
    "r = skewnorm.rvs(a, loc=2, scale=3, size=1)\n",
    "r"
   ]
  },
  {
   "cell_type": "code",
   "execution_count": 17,
   "metadata": {},
   "outputs": [
    {
     "data": {
      "image/png": "[encoded data removed]",
      "text/plain": [
       "<Figure size 432x288 with 1 Axes>"
      ]
     },
     "metadata": {
      "needs_background": "light"
     },
     "output_type": "display_data"
    }
   ],
   "source": [
    "# aggressiveness level distributions, in units of ticks from theo value\n",
    "a = 8\n",
    "rv = skewnorm(a, loc=2, scale=3)\n",
    "x = np.linspace(skewnorm.ppf(0.01, a, loc=2, scale=3), skewnorm.ppf(0.99, a, loc=2, scale=3), 100)\n",
    "\n",
    "plt.plot(x, rv.pdf(x), 'k-', lw=2, label='frozen pdf')\n",
    "\n",
    "r = skewnorm.rvs(a, loc=2, scale=3, size=1000)\n",
    "plt.hist(r, density=True, histtype='stepfilled', alpha=0.2, bins=[0, 1, 2, 3, 4, 5, 6, 7, 8, 9, 10])\n",
    "plt.show()"
   ]
  },
  {
   "cell_type": "code",
   "execution_count": 33,
   "metadata": {},
   "outputs": [
    {
     "data": {
      "text/plain": [
       "4"
      ]
     },
     "execution_count": 33,
     "metadata": {},
     "output_type": "execute_result"
    }
   ],
   "source": [
    "round(4.2)"
   ]
  },
  {
   "cell_type": "code",
   "execution_count": 35,
   "metadata": {},
   "outputs": [
    {
     "data": {
      "text/plain": [
       "5"
      ]
     },
     "execution_count": 35,
     "metadata": {},
     "output_type": "execute_result"
    }
   ],
   "source": [
    "round(4.8)"
   ]
  },
  {
   "cell_type": "code",
   "execution_count": 18,
   "metadata": {},
   "outputs": [
    {
     "data": {
      "image/png": "[encoded data removed]",
      "text/plain": [
       "<Figure size 432x288 with 1 Axes>"
      ]
     },
     "metadata": {
      "needs_background": "light"
     },
     "output_type": "display_data"
    }
   ],
   "source": [
    "# agent theo value\n",
    "# simply add gaussian noise\n",
    "\n",
    "sd = 2.5\n",
    "rv = norm(scale=sd)\n",
    "x = np.linspace(norm.ppf(0.01, scale=sd), norm.ppf(0.99, scale=sd), 1000)\n",
    "\n",
    "plt.plot(x, rv.pdf(x), 'k-', lw=2, label='frozen pdf')\n",
    "\n",
    "r = norm.rvs(scale=sd, size=1000)\n",
    "plt.hist(r, density=True, histtype='stepfilled', alpha=0.2)\n",
    "plt.show()"
   ]
  },
  {
   "cell_type": "code",
   "execution_count": 19,
   "metadata": {},
   "outputs": [],
   "source": [
    "# for now cancel duration can just be an integer\n",
    "cancel_duration = 180 # seconds"
   ]
  },
  {
   "cell_type": "code",
   "execution_count": null,
   "metadata": {},
   "outputs": [],
   "source": []
  }
 ],
 "metadata": {
  "kernelspec": {
   "display_name": "Python 3.8.5 ('base')",
   "language": "python",
   "name": "python3"
  },
  "language_info": {
   "codemirror_mode": {
    "name": "ipython",
    "version": 3
   },
   "file_extension": ".py",
   "mimetype": "text/x-python",
   "name": "python",
   "nbconvert_exporter": "python",
   "pygments_lexer": "ipython3",
   "version": "3.8.5"
  },
  "orig_nbformat": 4,
  "vscode": {
   "interpreter": {
    "hash": "bfa17b888f781787d1ad499f11a18effa7db9f77bef65d53401476cd9a2fd8c5"
   }
  }
 },
 "nbformat": 4,
 "nbformat_minor": 2
}
