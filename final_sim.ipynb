{
 "cells": [
  {
   "cell_type": "code",
   "execution_count": 1,
   "metadata": {},
   "outputs": [],
   "source": [
    "import pandas as pd\n",
    "import numpy as np\n",
    "\n",
    "import matplotlib.pyplot as plt\n",
    "import random\n",
    "from scipy.stats import bernoulli\n",
    "\n",
    "from exchange import *\n",
    "from agents import *\n",
    "from simulation import *"
   ]
  },
  {
   "cell_type": "markdown",
   "metadata": {},
   "source": [
    "# Define MainCharacter Policy"
   ]
  },
  {
   "cell_type": "code",
   "execution_count": 2,
   "metadata": {},
   "outputs": [],
   "source": [
    "def execute_policy(e: Exchange, price_function, policy_number: int):\n",
    "    # main character params: true_value, quantity, side, spread, cid\n",
    "\n",
    "    if list(e.bids.keys()) != [] and list(e.asks.keys()) != []:\n",
    "        tob_bid = max(e.bids.keys())\n",
    "        tob_ask = min(e.asks.keys())\n",
    "    else: \n",
    "        return\n",
    "    current_true_value = price_function(e.get_timestamp())\n",
    "\n",
    "    policies = []\n",
    "\n",
    "    ### quote 6 wide around 100 ###\n",
    "    policies.append(MainCharacter(true_value=100, quantity=10, side=\"AB\", spread=3, cid=-1.5))\n",
    "\n",
    "    ### quote 2 wide around 100 ### \n",
    "    policies.append(MainCharacter(true_value=100, quantity=10, side=\"AB\", spread=1, cid=-2.5))\n",
    "\n",
    "    ### quote 2 wide around 100, quantity 1 ###\n",
    "    policies.append(MainCharacter(true_value=100, quantity=1, side=\"AB\", spread=1, cid=-3.5))\n",
    "\n",
    "    ### quote 2 wide around true val (perfect information) ###\n",
    "    policies.append(MainCharacter(true_value = price_function(e.get_timestamp()), quantity=5, side=\"AB\", spread=1, cid=-4.5))\n",
    "\n",
    "    ### quote 2 wide around true val 10 timestamps ago ### \n",
    "    policies.append(MainCharacter(true_value=price_function(e.get_timestamp() - 10), quantity=5, side=\"AB\", spread=1, cid=-5.5))\n",
    "\n",
    "    ### quote 2 wide around true value 10 timestamps into future ###\n",
    "    policies.append(MainCharacter(true_value=price_function(e.get_timestamp() + 10), quantity=5, side=\"AB\", spread=1, cid=-6.5))\n",
    "\n",
    "    ### quote 6 wide around true value  ###\n",
    "    policies.append(MainCharacter(true_value=price_function(e.get_timestamp() + 10), quantity=5, side=\"AB\", spread=3, cid=-7.5))\n",
    "\n",
    "    ### psychic far looking wide policy ###\n",
    "    policies.append(MainCharacter(true_value=price_function(e.get_timestamp() + 50), quantity=5, side=\"AB\", spread=3, cid=-8.5))\n",
    "\n",
    "    a = policies[policy_number]\n",
    "\n",
    "    if policy_number <= 7:\n",
    "        if a.cid not in list(e.ask_customers.keys()) and a.cid not in list(e.bid_customers.keys()):\n",
    "            e.add_order(a)\n",
    "        return\n",
    "\n",
    "    ### quote 1 ticks from top of book ### \n",
    "    if policy_number == 8:\n",
    "        b = MainCharacter(true_value=tob_bid, quantity=5, side=\"B\", spread=1, cid=-9.5)\n",
    "        a = MainCharacter(true_value=tob_ask, quantity=5, side=\"A\", spread=1, cid=-9.5)\n",
    "        if a.cid not in list(e.ask_customers.keys()):\n",
    "            e.add_order(a)\n",
    "        if b.cid not in list(e.bid_customers.keys()):\n",
    "            e.add_order(b)\n",
    "\n",
    "    #TODO: this seems bugged\n",
    "    ### long-short taking strategy ###\n",
    "    if policy_number == 9:\n",
    "        if tob_ask < current_true_value:\n",
    "            b = MainCharacter(true_value=tob_ask, quantity=min(10, e.asks[tob_ask]), side=\"B\", spread=0, cid=-10.5)\n",
    "            e.add_order(b)\n",
    "        if tob_bid > current_true_value:\n",
    "            a = MainCharacter(true_value=tob_bid, quantity=min(10, e.bids[tob_bid]), side=\"A\", spread=0, cid=-10.5)\n",
    "            e.add_order(a)"
   ]
  },
  {
   "cell_type": "markdown",
   "metadata": {},
   "source": [
    "# Define Price Function"
   ]
  },
  {
   "cell_type": "code",
   "execution_count": 3,
   "metadata": {},
   "outputs": [],
   "source": [
    "### constant price ###\n",
    "# price_function = lambda t: 100\n",
    "\n",
    "### linear price ###\n",
    "# price_function = lambda t: 0.001*t + 100\n",
    "\n",
    "### sine fluctuating ###\n",
    "# price_function = lambda t: np.sin(t / 500) * 10 + 100\n",
    "\n",
    "### exponential ###\n",
    "# price_function = lambda t: t * np.exp(t / 10000) + 100"
   ]
  },
  {
   "cell_type": "code",
   "execution_count": 4,
   "metadata": {},
   "outputs": [
    {
     "data": {
      "text/plain": [
       "Text(0.5, 0, 'timestamp')"
      ]
     },
     "execution_count": 4,
     "metadata": {},
     "output_type": "execute_result"
    },
    {
     "data": {
      "image/png": "[encoded data removed]",
      "text/plain": [
       "<Figure size 432x288 with 1 Axes>"
      ]
     },
     "metadata": {
      "needs_background": "light"
     },
     "output_type": "display_data"
    }
   ],
   "source": [
    "times = range(10000)\n",
    "plt.plot([price_function(t) for t in times])\n",
    "plt.title(\"price function for underlying asset\")\n",
    "plt.ylabel(\"true value\")\n",
    "plt.xlabel(\"timestamp\")"
   ]
  },
  {
   "cell_type": "markdown",
   "metadata": {},
   "source": [
    "# Run Simulation"
   ]
  },
  {
   "cell_type": "markdown",
   "metadata": {},
   "source": [
    "### Linear Price Function"
   ]
  },
  {
   "cell_type": "code",
   "execution_count": 46,
   "metadata": {},
   "outputs": [],
   "source": [
    "%%capture\n",
    "\n",
    "price_function = lambda t: 100\n",
    "\n",
    "policy_data = []\n",
    "for policy_num in range(8):\n",
    "    profits = []\n",
    "    ranks = []\n",
    "    exchanges = []\n",
    "    summaries = []\n",
    "\n",
    "    for iteration in range(20): # run 10 simulations\n",
    "        e = simulate(price_function, execute_policy, policy_number=policy_num, agent_arrival_rate=0.1, taker_probability=0.4, n=100000)\n",
    "        summary, profit = summarize_transactions(e, price_function, num_agents=20)\n",
    "        summaries.append(summary)\n",
    "        exchanges.append(e)\n",
    "\n",
    "        if len(profit[profit.index % 1 == 0.5]) == 0:\n",
    "            p = 0 \n",
    "            rank = None\n",
    "        else: \n",
    "            p = profit[profit.index % 1 == 0.5].iloc[0, -1]\n",
    "            rank = list(profit.index % 1).index(0.5) + 1\n",
    "        profits.append(p)\n",
    "        ranks.append(rank)\n",
    "\n",
    "    policy_data.append((profits, ranks, exchanges, summaries))"
   ]
  },
  {
   "cell_type": "code",
   "execution_count": 47,
   "metadata": {},
   "outputs": [
    {
     "data": {
      "text/plain": [
       "[354.2, 5373.9, 1080.8, 3641.5, 3660.95, 3605.1, 295.65, 321.7]"
      ]
     },
     "execution_count": 47,
     "metadata": {},
     "output_type": "execute_result"
    }
   ],
   "source": [
    "# average profit for each simple policy\n",
    "[np.mean(arr[0]) for arr in policy_data]"
   ]
  },
  {
   "cell_type": "code",
   "execution_count": 49,
   "metadata": {},
   "outputs": [
    {
     "data": {
      "text/plain": [
       "[1.0, 1.0, 1.0, 1.0, 1.0, 1.0, 1.45, 1.15]"
      ]
     },
     "execution_count": 49,
     "metadata": {},
     "output_type": "execute_result"
    }
   ],
   "source": [
    "# average rank for each simple policy\n",
    "[np.mean(arr[1]) for arr in policy_data]"
   ]
  },
  {
   "cell_type": "markdown",
   "metadata": {},
   "source": [
    "## Linear Price Function"
   ]
  },
  {
   "cell_type": "code",
   "execution_count": 51,
   "metadata": {},
   "outputs": [],
   "source": [
    "%%capture\n",
    "\n",
    "price_function = lambda t: 0.001*t + 100\n",
    "\n",
    "policy_data = []\n",
    "for policy_num in range(8):\n",
    "    profits = []\n",
    "    ranks = []\n",
    "    exchanges = []\n",
    "    summaries = []\n",
    "\n",
    "    for iteration in range(20): # run 10 simulations\n",
    "        e = simulate(price_function, execute_policy, policy_number=policy_num, agent_arrival_rate=0.1, taker_probability=0.4, n=100000)\n",
    "        summary, profit = summarize_transactions(e, price_function, num_agents=20)\n",
    "        summaries.append(summary)\n",
    "        exchanges.append(e)\n",
    "\n",
    "        if len(profit[profit.index % 1 == 0.5]) == 0:\n",
    "            p = 0 \n",
    "            rank = None\n",
    "        else: \n",
    "            p = profit[profit.index % 1 == 0.5].iloc[0, -1]\n",
    "            rank = list(profit.index % 1).index(0.5) + 1\n",
    "        profits.append(p)\n",
    "        ranks.append(rank)\n",
    "\n",
    "    policy_data.append((profits, ranks, exchanges, summaries))\n",
    "# average profit for each simple policy\n",
    "[np.mean(arr[0]) for arr in policy_data]\n",
    "# average rank for each simple policy\n",
    "[np.mean(arr[1]) for arr in policy_data]"
   ]
  },
  {
   "cell_type": "code",
   "execution_count": 52,
   "metadata": {},
   "outputs": [
    {
     "data": {
      "text/plain": [
       "[-186572.3954506645,\n",
       " -192437.09657368585,\n",
       " -19259.56625906219,\n",
       " 4180.796352725414,\n",
       " 4917.268490290521,\n",
       " 4392.296117690648,\n",
       " -204.06412147687047,\n",
       " 770.8677835720234]"
      ]
     },
     "execution_count": 52,
     "metadata": {},
     "output_type": "execute_result"
    }
   ],
   "source": [
    "# average profit for each simple policy\n",
    "[np.mean(arr[0]) for arr in policy_data]"
   ]
  },
  {
   "cell_type": "code",
   "execution_count": 53,
   "metadata": {},
   "outputs": [
    {
     "data": {
      "text/plain": [
       "[21.0, 21.0, 21.0, 4.0, 3.25, 3.6, 11.5, 8.8]"
      ]
     },
     "execution_count": 53,
     "metadata": {},
     "output_type": "execute_result"
    }
   ],
   "source": [
    "# average rank for each simple policy\n",
    "[np.mean(arr[1]) for arr in policy_data]"
   ]
  },
  {
   "cell_type": "markdown",
   "metadata": {},
   "source": [
    "## Sine Price Function"
   ]
  },
  {
   "cell_type": "code",
   "execution_count": 54,
   "metadata": {},
   "outputs": [],
   "source": [
    "%%capture\n",
    "\n",
    "price_function = lambda t: np.sin(t / 500) * 10 + 100\n",
    "\n",
    "policy_data = []\n",
    "for policy_num in range(8):\n",
    "    profits = []\n",
    "    ranks = []\n",
    "    exchanges = []\n",
    "    summaries = []\n",
    "\n",
    "    for iteration in range(20): # run 10 simulations\n",
    "        e = simulate(price_function, execute_policy, policy_number=policy_num, agent_arrival_rate=0.1, taker_probability=0.4, n=100000)\n",
    "        summary, profit = summarize_transactions(e, price_function, num_agents=20)\n",
    "        summaries.append(summary)\n",
    "        exchanges.append(e)\n",
    "\n",
    "        if len(profit[profit.index % 1 == 0.5]) == 0:\n",
    "            p = 0 \n",
    "            rank = None\n",
    "        else: \n",
    "            p = profit[profit.index % 1 == 0.5].iloc[0, -1]\n",
    "            rank = list(profit.index % 1).index(0.5) + 1\n",
    "        profits.append(p)\n",
    "        ranks.append(rank)\n",
    "\n",
    "    policy_data.append((profits, ranks, exchanges, summaries))\n",
    "# average profit for each simple policy\n",
    "[np.mean(arr[0]) for arr in policy_data]\n",
    "# average rank for each simple policy\n",
    "[np.mean(arr[1]) for arr in policy_data]"
   ]
  },
  {
   "cell_type": "code",
   "execution_count": 55,
   "metadata": {},
   "outputs": [
    {
     "data": {
      "text/plain": [
       "[9747.194688442489,\n",
       " 6148.274651557542,\n",
       " 673.8184190494035,\n",
       " 1150.3300414527773,\n",
       " 1158.4746149092548,\n",
       " 1021.6048162004463,\n",
       " 778.8282858233193,\n",
       " 268.3965249624733]"
      ]
     },
     "execution_count": 55,
     "metadata": {},
     "output_type": "execute_result"
    }
   ],
   "source": [
    "# average profit for each simple policy\n",
    "[np.mean(arr[0]) for arr in policy_data]"
   ]
  },
  {
   "cell_type": "code",
   "execution_count": 56,
   "metadata": {},
   "outputs": [
    {
     "data": {
      "text/plain": [
       "[1.0, 1.0, 3.3, 2.05, 2.25, 2.7, 4.1, 8.3]"
      ]
     },
     "execution_count": 56,
     "metadata": {},
     "output_type": "execute_result"
    }
   ],
   "source": [
    "# average rank for each simple policy\n",
    "[np.mean(arr[1]) for arr in policy_data]"
   ]
  },
  {
   "cell_type": "markdown",
   "metadata": {},
   "source": [
    "## Exponential Price Function"
   ]
  },
  {
   "cell_type": "code",
   "execution_count": 57,
   "metadata": {},
   "outputs": [],
   "source": [
    "%%capture\n",
    "\n",
    "price_function = lambda t: t * np.exp(t / 10000) + 100\n",
    "\n",
    "policy_data = []\n",
    "for policy_num in range(8):\n",
    "    profits = []\n",
    "    ranks = []\n",
    "    exchanges = []\n",
    "    summaries = []\n",
    "\n",
    "    for iteration in range(20): # run 10 simulations\n",
    "        e = simulate(price_function, execute_policy, policy_number=policy_num, agent_arrival_rate=0.1, taker_probability=0.4, n=100000)\n",
    "        summary, profit = summarize_transactions(e, price_function, num_agents=20)\n",
    "        summaries.append(summary)\n",
    "        exchanges.append(e)\n",
    "\n",
    "        if len(profit[profit.index % 1 == 0.5]) == 0:\n",
    "            p = 0 \n",
    "            rank = None\n",
    "        else: \n",
    "            p = profit[profit.index % 1 == 0.5].iloc[0, -1]\n",
    "            rank = list(profit.index % 1).index(0.5) + 1\n",
    "        profits.append(p)\n",
    "        ranks.append(rank)\n",
    "\n",
    "    policy_data.append((profits, ranks, exchanges, summaries))\n",
    "# average profit for each simple policy\n",
    "[np.mean(arr[0]) for arr in policy_data]\n",
    "# average rank for each simple policy\n",
    "[np.mean(arr[1]) for arr in policy_data]"
   ]
  },
  {
   "cell_type": "code",
   "execution_count": 58,
   "metadata": {},
   "outputs": [
    {
     "data": {
      "text/plain": [
       "[-629071720856.7079,\n",
       " -703955893315.9158,\n",
       " -92270618453.07802,\n",
       " -110805064792.34229,\n",
       " -254455499232.09604,\n",
       " -72965454515.67749,\n",
       " -81440425045.16817,\n",
       " -4601431623.409572]"
      ]
     },
     "execution_count": 58,
     "metadata": {},
     "output_type": "execute_result"
    }
   ],
   "source": [
    "# average profit for each simple policy\n",
    "[np.mean(arr[0]) for arr in policy_data]"
   ]
  },
  {
   "cell_type": "code",
   "execution_count": 59,
   "metadata": {},
   "outputs": [
    {
     "data": {
      "text/plain": [
       "[21.0, 21.0, 17.15, 17.7, 20.8, 15.6, 16.15, 11.25]"
      ]
     },
     "execution_count": 59,
     "metadata": {},
     "output_type": "execute_result"
    }
   ],
   "source": [
    "# average rank for each simple policy\n",
    "[np.mean(arr[1]) for arr in policy_data]"
   ]
  },
  {
   "cell_type": "code",
   "execution_count": null,
   "metadata": {},
   "outputs": [],
   "source": [
    "##TODO: \n",
    "\n",
    "''' \n",
    "- for each price function, determine best policy\n",
    "- demonstrate average arrival rate by looking at underlying exchange objects\n",
    "- track something like average order duration (for orders that get hit)\n",
    "- track balance between taker ratio and maker ratio for trades that occur (across different price functions)\n",
    "- determine: under what conditions do trades usually happen?\n",
    "- \n",
    "''' "
   ]
  }
 ],
 "metadata": {
  "kernelspec": {
   "display_name": "Python 3.9.12 ('ml')",
   "language": "python",
   "name": "python3"
  },
  "language_info": {
   "codemirror_mode": {
    "name": "ipython",
    "version": 3
   },
   "file_extension": ".py",
   "mimetype": "text/x-python",
   "name": "python",
   "nbconvert_exporter": "python",
   "pygments_lexer": "ipython3",
   "version": "3.9.12"
  },
  "orig_nbformat": 4,
  "vscode": {
   "interpreter": {
    "hash": "c09d1698212c735a3443dc0423fe58b563a1b228e762256a81505a70ae1393dc"
   }
  }
 },
 "nbformat": 4,
 "nbformat_minor": 2
}
