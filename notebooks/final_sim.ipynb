{
 "cells": [
  {
   "cell_type": "code",
   "execution_count": 2,
   "metadata": {},
   "outputs": [],
   "source": [
    "import pandas as pd\n",
    "import numpy as np\n",
    "\n",
    "import matplotlib.pyplot as plt\n",
    "import random\n",
    "from scipy.stats import bernoulli\n",
    "\n",
    "from exchange import *\n",
    "from agents import *\n",
    "from simulation import *\n",
    "\n",
    "plt.rcParams['figure.dpi'] = 300"
   ]
  },
  {
   "cell_type": "markdown",
   "metadata": {},
   "source": [
    "# Define MainCharacter Policy"
   ]
  },
  {
   "cell_type": "code",
   "execution_count": 3,
   "metadata": {},
   "outputs": [],
   "source": [
    "def execute_policy(e: Exchange, price_function, policy_number: int):\n",
    "    # main character params: true_value, quantity, side, spread, cid\n",
    "\n",
    "    if list(e.bids.keys()) != [] and list(e.asks.keys()) != []:\n",
    "        tob_bid = max(e.bids.keys())\n",
    "        tob_ask = min(e.asks.keys())\n",
    "    else: \n",
    "        return\n",
    "    current_true_value = price_function(e.get_timestamp())\n",
    "\n",
    "    policies = []\n",
    "\n",
    "    ### quote 6 wide around 100 ###\n",
    "    policies.append(MainCharacter(true_value=100, quantity=10, side=\"AB\", spread=3, cid=-1.5))\n",
    "\n",
    "    ### quote 2 wide around 100 ### \n",
    "    policies.append(MainCharacter(true_value=100, quantity=10, side=\"AB\", spread=1, cid=-2.5))\n",
    "\n",
    "    ### quote 2 wide around 100, quantity 1 ###\n",
    "    policies.append(MainCharacter(true_value=100, quantity=1, side=\"AB\", spread=1, cid=-3.5))\n",
    "\n",
    "    ### quote 2 wide around true val (perfect information) ###\n",
    "    policies.append(MainCharacter(true_value = price_function(e.get_timestamp()), quantity=5, side=\"AB\", spread=1, cid=-4.5))\n",
    "\n",
    "    ### quote 2 wide around true val 10 timestamps ago ### \n",
    "    policies.append(MainCharacter(true_value=price_function(e.get_timestamp() - 10), quantity=5, side=\"AB\", spread=1, cid=-5.5))\n",
    "\n",
    "    ### quote 2 wide around true value 10 timestamps into future ###\n",
    "    policies.append(MainCharacter(true_value=price_function(e.get_timestamp() + 10), quantity=5, side=\"AB\", spread=1, cid=-6.5))\n",
    "\n",
    "    ### quote 6 wide around true value  ###\n",
    "    policies.append(MainCharacter(true_value=price_function(e.get_timestamp() + 10), quantity=5, side=\"AB\", spread=3, cid=-7.5))\n",
    "\n",
    "    ### psychic far looking wide policy ###\n",
    "    policies.append(MainCharacter(true_value=price_function(e.get_timestamp() + 50), quantity=5, side=\"AB\", spread=3, cid=-8.5))\n",
    "\n",
    "    if policy_number <= 7:\n",
    "        a = policies[policy_number]\n",
    "        if a.cid not in list(e.ask_customers.keys()) and a.cid not in list(e.bid_customers.keys()):\n",
    "            e.add_order(a)\n",
    "        return\n",
    "\n",
    "    ### quote 1 ticks from top of book ### \n",
    "    if policy_number == 8:\n",
    "        b = MainCharacter(true_value=tob_bid, quantity=5, side=\"B\", spread=1, cid=-9.5)\n",
    "        a = MainCharacter(true_value=tob_ask, quantity=5, side=\"A\", spread=1, cid=-9.5)\n",
    "        if a.cid not in list(e.ask_customers.keys()):\n",
    "            e.add_order(a)\n",
    "        if b.cid not in list(e.bid_customers.keys()):\n",
    "            e.add_order(b)\n",
    "\n",
    "    ### long-short taking strategy, perfect information ###\n",
    "    if policy_number == 9:\n",
    "        if tob_ask < price_function(e.get_timestamp()):\n",
    "            b = MainCharacter(true_value=tob_ask, quantity=min(10, e.asks[tob_ask]), side=\"B\", spread=0, cid=-10.5)\n",
    "            e.add_order(b)\n",
    "        if tob_bid > price_function(e.get_timestamp()):\n",
    "            a = MainCharacter(true_value=tob_bid, quantity=min(10, e.bids[tob_bid]), side=\"A\", spread=0, cid=-10.5)\n",
    "            e.add_order(a)\n",
    "\n",
    "    ### taking strategy, lagged information ###\n",
    "    if policy_number == 10:\n",
    "        if tob_ask < price_function(e.get_timestamp() - 10):\n",
    "            b = MainCharacter(true_value=tob_ask, quantity=min(10, e.asks[tob_ask]), side=\"B\", spread=0, cid=-10.5)\n",
    "            e.add_order(b)\n",
    "        if tob_bid > price_function(e.get_timestamp() - 10):\n",
    "            a = MainCharacter(true_value=tob_bid, quantity=min(10, e.bids[tob_bid]), side=\"A\", spread=0, cid=-10.5)\n",
    "            e.add_order(a)"
   ]
  },
  {
   "cell_type": "markdown",
   "metadata": {},
   "source": [
    "# Define Price Function"
   ]
  },
  {
   "cell_type": "code",
   "execution_count": 4,
   "metadata": {},
   "outputs": [],
   "source": [
    "price_functions = []\n",
    "\n",
    "### constant price ###\n",
    "price_functions.append(lambda t: 100)\n",
    "\n",
    "### linear increasing price ###\n",
    "price_functions.append(lambda t: 0.003*t + 100)\n",
    "\n",
    "### linear decreasing price ###\n",
    "price_functions.append(lambda t: -0.003*t + 100)\n",
    "\n",
    "### polynomial increasing price ### \n",
    "price_functions.append(lambda t: abs((t + 20) ** 0.5 + 100))\n",
    "\n",
    "### polynomial decreasing price ### \n",
    "price_functions.append(lambda t: -(t + 20) ** 0.5 + 200)\n",
    "\n",
    "### sine fluctuating ###\n",
    "price_functions.append(lambda t: np.sin(t / 500) * 10 + 100)\n",
    "\n",
    "### exponential ###\n",
    "price_functions.append(lambda t: t * np.exp(t / 10000) + 100)\n",
    "\n",
    "### polynomial sine ### \n",
    "price_functions.append(lambda t: abs(-0.000005 * t ** 2 + 0.05 * t + 100 + np.sin(t / 500) * 30))"
   ]
  },
  {
   "cell_type": "code",
   "execution_count": 5,
   "metadata": {},
   "outputs": [
    {
     "data": {
      "text/plain": [
       "Text(0.5, 0, 'timestamp')"
      ]
     },
     "execution_count": 5,
     "metadata": {},
     "output_type": "execute_result"
    },
    {
     "data": {
      "image/png": "[encoded data removed]",
      "text/plain": [
       "<Figure size 432x288 with 1 Axes>"
      ]
     },
     "metadata": {
      "needs_background": "light"
     },
     "output_type": "display_data"
    }
   ],
   "source": [
    "times = range(10000)\n",
    "plt.plot([price_functions[-1](t) for t in times])\n",
    "plt.title(\"price function for underlying asset\")\n",
    "plt.ylabel(\"true value\")\n",
    "plt.xlabel(\"timestamp\")"
   ]
  },
  {
   "cell_type": "markdown",
   "metadata": {},
   "source": [
    "# Run Simulation"
   ]
  },
  {
   "cell_type": "code",
   "execution_count": 7,
   "metadata": {},
   "outputs": [],
   "source": [
    "agent_arrival_rate = 10\n",
    "taker_probability = 0.4\n",
    "num_agents = 20"
   ]
  },
  {
   "cell_type": "markdown",
   "metadata": {},
   "source": [
    "### ToB policy"
   ]
  },
  {
   "cell_type": "code",
   "execution_count": 40,
   "metadata": {},
   "outputs": [],
   "source": [
    "%%capture\n",
    "\n",
    "policy_num = 8\n",
    "\n",
    "price_fnc_data = []\n",
    "for price_function in price_functions:\n",
    "    profits = []\n",
    "    ranks = []\n",
    "    exchanges = []\n",
    "    summaries = []\n",
    "    for iteration in range(20):\n",
    "        e = simulate(price_function, execute_policy, policy_number=policy_num, agent_arrival_rate=agent_arrival_rate, taker_probability=taker_probability, n=100000) \n",
    "        summary, profit = summarize_transactions(e, price_function, num_agents=num_agents)\n",
    "        summaries.append(summary)\n",
    "        exchanges.append(e)\n",
    "\n",
    "        if len(profit[profit.index % 1 == 0.5]) == 0:\n",
    "            p = 0\n",
    "            rank = None\n",
    "        else:\n",
    "            p = profit[profit.index % 1 == 0.5].iloc[0, -1]\n",
    "            rank = list(profit.index % 1).index(0.5) + 1\n",
    "        profits.append(p)\n",
    "        ranks.append(rank)\n",
    "    price_fnc_data.append((profits, ranks, exchanges, summaries))"
   ]
  },
  {
   "cell_type": "code",
   "execution_count": 41,
   "metadata": {},
   "outputs": [
    {
     "data": {
      "text/plain": [
       "[4221.7,\n",
       " -291763.35231339966,\n",
       " -297008.624411258,\n",
       " -257246.4817866899,\n",
       " -257479.8155612399,\n",
       " 16753.895519222468,\n",
       " -1188604143609.4976,\n",
       " -27562154.544872887]"
      ]
     },
     "execution_count": 41,
     "metadata": {},
     "output_type": "execute_result"
    }
   ],
   "source": [
    "[np.mean(arr[0]) for arr in price_fnc_data]"
   ]
  },
  {
   "cell_type": "code",
   "execution_count": 42,
   "metadata": {},
   "outputs": [
    {
     "data": {
      "text/plain": [
       "[1.0, 21.0, 21.0, 21.0, 21.0, 1.0, 21.0, 21.0]"
      ]
     },
     "execution_count": 42,
     "metadata": {},
     "output_type": "execute_result"
    }
   ],
   "source": [
    "[np.mean(arr[1]) for arr in price_fnc_data]"
   ]
  },
  {
   "cell_type": "markdown",
   "metadata": {},
   "source": [
    "### Taking Strategy | perfect information"
   ]
  },
  {
   "cell_type": "code",
   "execution_count": 43,
   "metadata": {},
   "outputs": [],
   "source": [
    "%%capture\n",
    "\n",
    "policy_num = 9\n",
    "\n",
    "price_fnc_data = []\n",
    "for price_function in price_functions:\n",
    "    profits = []\n",
    "    ranks = []\n",
    "    exchanges = []\n",
    "    summaries = []\n",
    "    for iteration in range(20):\n",
    "        e = simulate(price_function, execute_policy, policy_number=policy_num, agent_arrival_rate=agent_arrival_rate, taker_probability=taker_probability, n=100000) \n",
    "        summary, profit = summarize_transactions(e, price_function, num_agents=num_agents)\n",
    "        summaries.append(summary)\n",
    "        exchanges.append(e)\n",
    "\n",
    "        if len(profit[profit.index % 1 == 0.5]) == 0:\n",
    "            p = 0\n",
    "            rank = None\n",
    "        else:\n",
    "            p = profit[profit.index % 1 == 0.5].iloc[0, -1]\n",
    "            rank = list(profit.index % 1).index(0.5) + 1\n",
    "        profits.append(p)\n",
    "        ranks.append(rank)\n",
    "    price_fnc_data.append((profits, ranks, exchanges, summaries))"
   ]
  },
  {
   "cell_type": "code",
   "execution_count": 44,
   "metadata": {},
   "outputs": [
    {
     "data": {
      "text/plain": [
       "[1173.55,\n",
       " 280829.9506733885,\n",
       " 289420.47719849146,\n",
       " 302471.27605966607,\n",
       " 300050.02466882305,\n",
       " 704.4269307570995,\n",
       " 37894763725703.65,\n",
       " 368421811.3672002]"
      ]
     },
     "execution_count": 44,
     "metadata": {},
     "output_type": "execute_result"
    }
   ],
   "source": [
    "[np.mean(arr[0]) for arr in price_fnc_data]"
   ]
  },
  {
   "cell_type": "code",
   "execution_count": 45,
   "metadata": {},
   "outputs": [
    {
     "data": {
      "text/plain": [
       "[1.0, 1.0, 1.0, 1.0, 1.0, 6.95, 1.0, 1.0]"
      ]
     },
     "execution_count": 45,
     "metadata": {},
     "output_type": "execute_result"
    }
   ],
   "source": [
    "[np.mean(arr[1]) for arr in price_fnc_data]"
   ]
  },
  {
   "cell_type": "markdown",
   "metadata": {},
   "source": [
    "### Taking Strategy | lagged information"
   ]
  },
  {
   "cell_type": "code",
   "execution_count": 8,
   "metadata": {},
   "outputs": [],
   "source": [
    "%%capture\n",
    "\n",
    "policy_num = 10\n",
    "\n",
    "price_fnc_data = []\n",
    "for price_function in price_functions:\n",
    "    profits = []\n",
    "    ranks = []\n",
    "    exchanges = []\n",
    "    summaries = []\n",
    "    for iteration in range(20):\n",
    "        e = simulate(price_function, execute_policy, policy_number=policy_num, agent_arrival_rate=agent_arrival_rate, taker_probability=taker_probability, n=100000) \n",
    "        summary, profit = summarize_transactions(e, price_function, num_agents=num_agents)\n",
    "        summaries.append(summary)\n",
    "        exchanges.append(e)\n",
    "\n",
    "        if len(profit[profit.index % 1 == 0.5]) == 0:\n",
    "            p = 0\n",
    "            rank = None\n",
    "        else:\n",
    "            p = profit[profit.index % 1 == 0.5].iloc[0, -1]\n",
    "            rank = list(profit.index % 1).index(0.5) + 1\n",
    "        profits.append(p)\n",
    "        ranks.append(rank)\n",
    "    price_fnc_data.append((profits, ranks, exchanges, summaries))"
   ]
  },
  {
   "cell_type": "code",
   "execution_count": 9,
   "metadata": {},
   "outputs": [
    {
     "data": {
      "text/plain": [
       "[1174.9,\n",
       " 267461.95207238593,\n",
       " 271390.2203591876,\n",
       " 298961.5029073904,\n",
       " 300521.2730514021,\n",
       " 1453.8540187114256,\n",
       " 3488126983562.7715,\n",
       " 237795411.37834603]"
      ]
     },
     "execution_count": 9,
     "metadata": {},
     "output_type": "execute_result"
    }
   ],
   "source": [
    "[np.mean(arr[0]) for arr in price_fnc_data]"
   ]
  },
  {
   "cell_type": "code",
   "execution_count": 10,
   "metadata": {},
   "outputs": [
    {
     "data": {
      "text/plain": [
       "[1.0, 1.0, 1.0, 1.0, 1.0, 7.75, 1.0, 1.0]"
      ]
     },
     "execution_count": 10,
     "metadata": {},
     "output_type": "execute_result"
    }
   ],
   "source": [
    "[np.mean(arr[1]) for arr in price_fnc_data]"
   ]
  },
  {
   "cell_type": "markdown",
   "metadata": {},
   "source": [
    "### Constant Price Function"
   ]
  },
  {
   "cell_type": "code",
   "execution_count": 11,
   "metadata": {},
   "outputs": [],
   "source": [
    "%%capture\n",
    "\n",
    "price_function = lambda t: 100\n",
    "\n",
    "policy_data = []\n",
    "for policy_num in range(8):\n",
    "    profits = []\n",
    "    ranks = []\n",
    "    exchanges = []\n",
    "    summaries = []\n",
    "\n",
    "    for iteration in range(20): # run 10 simulations\n",
    "        e = simulate(price_function, execute_policy, policy_number=policy_num, agent_arrival_rate=agent_arrival_rate, taker_probability=taker_probability, n=100000) \n",
    "        summary, profit = summarize_transactions(e, price_function, num_agents=num_agents)\n",
    "        summaries.append(summary)\n",
    "        exchanges.append(e)\n",
    "\n",
    "        if len(profit[profit.index % 1 == 0.5]) == 0:\n",
    "            p = 0 \n",
    "            rank = None\n",
    "        else: \n",
    "            p = profit[profit.index % 1 == 0.5].iloc[0, -1]\n",
    "            rank = list(profit.index % 1).index(0.5) + 1\n",
    "        profits.append(p)\n",
    "        ranks.append(rank)\n",
    "\n",
    "    policy_data.append((profits, ranks, exchanges, summaries))"
   ]
  },
  {
   "cell_type": "code",
   "execution_count": 12,
   "metadata": {},
   "outputs": [
    {
     "data": {
      "text/plain": [
       "[383.0, 5389.0, 1072.1, 3600.1, 3631.4, 3641.95, 291.9, 302.5]"
      ]
     },
     "execution_count": 12,
     "metadata": {},
     "output_type": "execute_result"
    }
   ],
   "source": [
    "# average profit for each simple policy\n",
    "[np.mean(arr[0]) for arr in policy_data]"
   ]
  },
  {
   "cell_type": "code",
   "execution_count": 13,
   "metadata": {},
   "outputs": [
    {
     "data": {
      "text/plain": [
       "[1.15, 1.0, 1.0, 1.0, 1.0, 1.0, 1.3, 1.25]"
      ]
     },
     "execution_count": 13,
     "metadata": {},
     "output_type": "execute_result"
    }
   ],
   "source": [
    "# average rank for each simple policy\n",
    "[np.mean(arr[1]) for arr in policy_data]"
   ]
  },
  {
   "cell_type": "markdown",
   "metadata": {},
   "source": [
    "## Linear Increasing Price Function"
   ]
  },
  {
   "cell_type": "code",
   "execution_count": 14,
   "metadata": {},
   "outputs": [],
   "source": [
    "%%capture\n",
    "\n",
    "price_function = lambda t: 0.003*t + 100\n",
    "\n",
    "policy_data = []\n",
    "for policy_num in range(8):\n",
    "    profits = []\n",
    "    ranks = []\n",
    "    exchanges = []\n",
    "    summaries = []\n",
    "\n",
    "    for iteration in range(20): # run 10 simulations\n",
    "        e = simulate(price_function, execute_policy, policy_number=policy_num, agent_arrival_rate=agent_arrival_rate, taker_probability=taker_probability, n=100000) \n",
    "        summary, profit = summarize_transactions(e, price_function, num_agents=num_agents)\n",
    "        summaries.append(summary)\n",
    "        exchanges.append(e)\n",
    "\n",
    "        if len(profit[profit.index % 1 == 0.5]) == 0:\n",
    "            p = 0 \n",
    "            rank = None\n",
    "        else: \n",
    "            p = profit[profit.index % 1 == 0.5].iloc[0, -1]\n",
    "            rank = list(profit.index % 1).index(0.5) + 1\n",
    "        profits.append(p)\n",
    "        ranks.append(rank)\n",
    "\n",
    "    policy_data.append((profits, ranks, exchanges, summaries))"
   ]
  },
  {
   "cell_type": "code",
   "execution_count": 15,
   "metadata": {},
   "outputs": [
    {
     "data": {
      "text/plain": [
       "[-579067.5335808898,\n",
       " -584569.2041773944,\n",
       " -58554.52357467343,\n",
       " 11167.75975289724,\n",
       " 8714.895870348526,\n",
       " 15272.449497841551,\n",
       " 91.64634083763562,\n",
       " 5643.195354499878]"
      ]
     },
     "execution_count": 15,
     "metadata": {},
     "output_type": "execute_result"
    }
   ],
   "source": [
    "# average profit for each simple policy\n",
    "[np.mean(arr[0]) for arr in policy_data]"
   ]
  },
  {
   "cell_type": "code",
   "execution_count": 16,
   "metadata": {},
   "outputs": [
    {
     "data": {
      "text/plain": [
       "[21.0, 21.0, 21.0, 4.4, 6.0, 2.95, 10.55, 6.7]"
      ]
     },
     "execution_count": 16,
     "metadata": {},
     "output_type": "execute_result"
    }
   ],
   "source": [
    "# average rank for each simple policy\n",
    "[np.mean(arr[1]) for arr in policy_data]"
   ]
  },
  {
   "cell_type": "markdown",
   "metadata": {},
   "source": [
    "## Sine Price Function"
   ]
  },
  {
   "cell_type": "code",
   "execution_count": 17,
   "metadata": {},
   "outputs": [],
   "source": [
    "%%capture\n",
    "\n",
    "price_function = lambda t: np.sin(t / 500) * 10 + 100\n",
    "\n",
    "policy_data = []\n",
    "for policy_num in range(8):\n",
    "    profits = []\n",
    "    ranks = []\n",
    "    exchanges = []\n",
    "    summaries = []\n",
    "\n",
    "    for iteration in range(20): # run 10 simulations\n",
    "        e = simulate(price_function, execute_policy, policy_number=policy_num, agent_arrival_rate=agent_arrival_rate, taker_probability=taker_probability, n=100000) \n",
    "        summary, profit = summarize_transactions(e, price_function, num_agents=num_agents)\n",
    "        summaries.append(summary)\n",
    "        exchanges.append(e)\n",
    "\n",
    "        if len(profit[profit.index % 1 == 0.5]) == 0:\n",
    "            p = 0 \n",
    "            rank = None\n",
    "        else: \n",
    "            p = profit[profit.index % 1 == 0.5].iloc[0, -1]\n",
    "            rank = list(profit.index % 1).index(0.5) + 1\n",
    "        profits.append(p)\n",
    "        ranks.append(rank)\n",
    "\n",
    "    policy_data.append((profits, ranks, exchanges, summaries))\n",
    "# average profit for each simple policy\n",
    "[np.mean(arr[0]) for arr in policy_data]\n",
    "# average rank for each simple policy\n",
    "[np.mean(arr[1]) for arr in policy_data]"
   ]
  },
  {
   "cell_type": "code",
   "execution_count": 18,
   "metadata": {},
   "outputs": [
    {
     "data": {
      "text/plain": [
       "[9725.819436286369,\n",
       " 6236.591855083339,\n",
       " 666.0185845184794,\n",
       " 1181.4769093658715,\n",
       " 1077.9007044981256,\n",
       " 876.3014570537083,\n",
       " 700.233053157951,\n",
       " 239.43195166746017]"
      ]
     },
     "execution_count": 18,
     "metadata": {},
     "output_type": "execute_result"
    }
   ],
   "source": [
    "# average profit for each simple policy\n",
    "[np.mean(arr[0]) for arr in policy_data]"
   ]
  },
  {
   "cell_type": "code",
   "execution_count": 19,
   "metadata": {},
   "outputs": [
    {
     "data": {
      "text/plain": [
       "[1.0, 1.0, 2.85, 2.6, 2.15, 3.75, 4.0, 8.1]"
      ]
     },
     "execution_count": 19,
     "metadata": {},
     "output_type": "execute_result"
    }
   ],
   "source": [
    "# average rank for each simple policy\n",
    "[np.mean(arr[1]) for arr in policy_data]"
   ]
  },
  {
   "cell_type": "markdown",
   "metadata": {},
   "source": [
    "## Exponential Price Function"
   ]
  },
  {
   "cell_type": "code",
   "execution_count": 20,
   "metadata": {},
   "outputs": [],
   "source": [
    "%%capture\n",
    "\n",
    "price_function = lambda t: t * np.exp(t / 10000) + 100\n",
    "\n",
    "policy_data = []\n",
    "for policy_num in range(8):\n",
    "    profits = []\n",
    "    ranks = []\n",
    "    exchanges = []\n",
    "    summaries = []\n",
    "\n",
    "    for iteration in range(20): # run 10 simulations\n",
    "        e = simulate(price_function, execute_policy, policy_number=policy_num, agent_arrival_rate=agent_arrival_rate, taker_probability=taker_probability, n=100000) \n",
    "        summary, profit = summarize_transactions(e, price_function, num_agents=num_agents)\n",
    "        summaries.append(summary)\n",
    "        exchanges.append(e)\n",
    "\n",
    "        if len(profit[profit.index % 1 == 0.5]) == 0:\n",
    "            p = 0 \n",
    "            rank = None\n",
    "        else: \n",
    "            p = profit[profit.index % 1 == 0.5].iloc[0, -1]\n",
    "            rank = list(profit.index % 1).index(0.5) + 1\n",
    "        profits.append(p)\n",
    "        ranks.append(rank)\n",
    "\n",
    "    policy_data.append((profits, ranks, exchanges, summaries))\n",
    "# average profit for each simple policy\n",
    "[np.mean(arr[0]) for arr in policy_data]\n",
    "# average rank for each simple policy\n",
    "[np.mean(arr[1]) for arr in policy_data]"
   ]
  },
  {
   "cell_type": "code",
   "execution_count": 21,
   "metadata": {},
   "outputs": [
    {
     "data": {
      "text/plain": [
       "[-745925824420.6061,\n",
       " -681775128778.2341,\n",
       " -85977492321.61264,\n",
       " -117575255497.75793,\n",
       " -236750606636.59985,\n",
       " -71209653161.79327,\n",
       " -76351237162.2475,\n",
       " -5136400758.255139]"
      ]
     },
     "execution_count": 21,
     "metadata": {},
     "output_type": "execute_result"
    }
   ],
   "source": [
    "# average profit for each simple policy\n",
    "[np.mean(arr[0]) for arr in policy_data]"
   ]
  },
  {
   "cell_type": "code",
   "execution_count": 22,
   "metadata": {},
   "outputs": [
    {
     "data": {
      "text/plain": [
       "[20.95, 21.0, 16.45, 18.4, 20.35, 16.15, 16.7, 11.2]"
      ]
     },
     "execution_count": 22,
     "metadata": {},
     "output_type": "execute_result"
    }
   ],
   "source": [
    "# average rank for each simple policy\n",
    "[np.mean(arr[1]) for arr in policy_data]"
   ]
  },
  {
   "cell_type": "markdown",
   "metadata": {},
   "source": [
    "## Linear Decreasing Function"
   ]
  },
  {
   "cell_type": "code",
   "execution_count": 23,
   "metadata": {},
   "outputs": [],
   "source": [
    "%%capture\n",
    "\n",
    "price_function = lambda t: -0.003*t + 100\n",
    "\n",
    "policy_data = []\n",
    "for policy_num in range(8):\n",
    "    profits = []\n",
    "    ranks = []\n",
    "    exchanges = []\n",
    "    summaries = []\n",
    "\n",
    "    for iteration in range(20): # run 10 simulations\n",
    "        e = simulate(price_function, execute_policy, policy_number=policy_num, agent_arrival_rate=agent_arrival_rate, taker_probability=taker_probability, n=100000) \n",
    "        summary, profit = summarize_transactions(e, price_function, num_agents=num_agents)\n",
    "        summaries.append(summary)\n",
    "        exchanges.append(e)\n",
    "\n",
    "        if len(profit[profit.index % 1 == 0.5]) == 0:\n",
    "            p = 0 \n",
    "            rank = None\n",
    "        else: \n",
    "            p = profit[profit.index % 1 == 0.5].iloc[0, -1]\n",
    "            rank = list(profit.index % 1).index(0.5) + 1\n",
    "        profits.append(p)\n",
    "        ranks.append(rank)\n",
    "\n",
    "    policy_data.append((profits, ranks, exchanges, summaries))"
   ]
  },
  {
   "cell_type": "code",
   "execution_count": 24,
   "metadata": {},
   "outputs": [
    {
     "data": {
      "text/plain": [
       "[-580255.807022617,\n",
       " -585456.9428383501,\n",
       " -58553.953740599754,\n",
       " 14085.875545798981,\n",
       " 8830.05943614383,\n",
       " 16654.288422981965,\n",
       " 227.71290267254707,\n",
       " 4134.179477909954]"
      ]
     },
     "execution_count": 24,
     "metadata": {},
     "output_type": "execute_result"
    }
   ],
   "source": [
    "# average profit for each simple policy\n",
    "[np.mean(arr[0]) for arr in policy_data]"
   ]
  },
  {
   "cell_type": "code",
   "execution_count": 25,
   "metadata": {},
   "outputs": [
    {
     "data": {
      "text/plain": [
       "[21.0, 21.0, 21.0, 3.1, 5.85, 2.15, 11.05, 7.95]"
      ]
     },
     "execution_count": 25,
     "metadata": {},
     "output_type": "execute_result"
    }
   ],
   "source": [
    "# average rank for each simple policy\n",
    "[np.mean(arr[1]) for arr in policy_data]"
   ]
  },
  {
   "cell_type": "markdown",
   "metadata": {},
   "source": [
    "## Polynomial Increasing Function"
   ]
  },
  {
   "cell_type": "code",
   "execution_count": 26,
   "metadata": {},
   "outputs": [],
   "source": [
    "%%capture\n",
    "\n",
    "price_function = lambda t: (t + 20) ** 0.5 + 100\n",
    "\n",
    "policy_data = []\n",
    "for policy_num in range(8):\n",
    "    profits = []\n",
    "    ranks = []\n",
    "    exchanges = []\n",
    "    summaries = []\n",
    "\n",
    "    for iteration in range(20): # run 10 simulations\n",
    "        e = simulate(price_function, execute_policy, policy_number=policy_num, agent_arrival_rate=agent_arrival_rate, taker_probability=taker_probability, n=100000) \n",
    "        summary, profit = summarize_transactions(e, price_function, num_agents=num_agents)\n",
    "        summaries.append(summary)\n",
    "        exchanges.append(e)\n",
    "\n",
    "        if len(profit[profit.index % 1 == 0.5]) == 0:\n",
    "            p = 0 \n",
    "            rank = None\n",
    "        else: \n",
    "            p = profit[profit.index % 1 == 0.5].iloc[0, -1]\n",
    "            rank = list(profit.index % 1).index(0.5) + 1\n",
    "        profits.append(p)\n",
    "        ranks.append(rank)\n",
    "\n",
    "    policy_data.append((profits, ranks, exchanges, summaries))"
   ]
  },
  {
   "cell_type": "code",
   "execution_count": 27,
   "metadata": {},
   "outputs": [
    {
     "data": {
      "text/plain": [
       "[-615064.5772579995,\n",
       " -619633.6944633244,\n",
       " -61966.63652243816,\n",
       " 9245.200508932248,\n",
       " 6162.386402832097,\n",
       " 9736.90525286622,\n",
       " 2386.6719482158687,\n",
       " 8083.476317323036]"
      ]
     },
     "execution_count": 27,
     "metadata": {},
     "output_type": "execute_result"
    }
   ],
   "source": [
    "# average profit for each simple policy\n",
    "[np.mean(arr[0]) for arr in policy_data]"
   ]
  },
  {
   "cell_type": "code",
   "execution_count": 28,
   "metadata": {},
   "outputs": [
    {
     "data": {
      "text/plain": [
       "[21.0, 21.0, 21.0, 3.3, 5.9, 3.2, 9.15, 3.6]"
      ]
     },
     "execution_count": 28,
     "metadata": {},
     "output_type": "execute_result"
    }
   ],
   "source": [
    "# average rank for each simple policy\n",
    "[np.mean(arr[1]) for arr in policy_data]"
   ]
  },
  {
   "cell_type": "markdown",
   "metadata": {},
   "source": [
    "## Polynomial Decreasing Function"
   ]
  },
  {
   "cell_type": "code",
   "execution_count": 29,
   "metadata": {},
   "outputs": [],
   "source": [
    "%%capture\n",
    "\n",
    "price_function = lambda t: -(t+20) ** 0.5 + 200\n",
    "\n",
    "policy_data = []\n",
    "for policy_num in range(8):\n",
    "    profits = []\n",
    "    ranks = []\n",
    "    exchanges = []\n",
    "    summaries = []\n",
    "\n",
    "    for iteration in range(20): # run 10 simulations\n",
    "        e = simulate(price_function, execute_policy, policy_number=policy_num, agent_arrival_rate=agent_arrival_rate, taker_probability=taker_probability, n=100000) \n",
    "        summary, profit = summarize_transactions(e, price_function, num_agents=num_agents)\n",
    "        summaries.append(summary)\n",
    "        exchanges.append(e)\n",
    "\n",
    "        if len(profit[profit.index % 1 == 0.5]) == 0:\n",
    "            p = 0 \n",
    "            rank = None\n",
    "        else: \n",
    "            p = profit[profit.index % 1 == 0.5].iloc[0, -1]\n",
    "            rank = list(profit.index % 1).index(0.5) + 1\n",
    "        profits.append(p)\n",
    "        ranks.append(rank)\n",
    "\n",
    "    policy_data.append((profits, ranks, exchanges, summaries))"
   ]
  },
  {
   "cell_type": "code",
   "execution_count": 30,
   "metadata": {},
   "outputs": [
    {
     "data": {
      "text/plain": [
       "[-331843.4395613974,\n",
       " -336047.6474343749,\n",
       " -33676.05339813252,\n",
       " 9782.43724261359,\n",
       " 5168.982300115689,\n",
       " 11709.875598798746,\n",
       " 1660.0150268440448,\n",
       " 7315.154935555879]"
      ]
     },
     "execution_count": 30,
     "metadata": {},
     "output_type": "execute_result"
    }
   ],
   "source": [
    "# average profit for each simple policy\n",
    "[np.mean(arr[0]) for arr in policy_data]"
   ]
  },
  {
   "cell_type": "code",
   "execution_count": 31,
   "metadata": {},
   "outputs": [
    {
     "data": {
      "text/plain": [
       "[21.0, 21.0, 21.0, 3.0, 7.05, 3.3, 8.45, 4.15]"
      ]
     },
     "execution_count": 31,
     "metadata": {},
     "output_type": "execute_result"
    }
   ],
   "source": [
    "# average rank for each simple policy\n",
    "[np.mean(arr[1]) for arr in policy_data]"
   ]
  },
  {
   "cell_type": "markdown",
   "metadata": {},
   "source": [
    "## Polynomial Sine"
   ]
  },
  {
   "cell_type": "code",
   "execution_count": 32,
   "metadata": {},
   "outputs": [],
   "source": [
    "price_function = lambda t: abs(-0.000005 * t ** 2 + 0.05 * t + 100 + np.sin(t / 500) * 30)"
   ]
  },
  {
   "cell_type": "code",
   "execution_count": 33,
   "metadata": {},
   "outputs": [],
   "source": [
    "%%capture\n",
    "# price_function = lambda t: -0.000005 * (t + 50) ** 2 + 0.05 * (t+50) + 100\n",
    "\n",
    "policy_data = []\n",
    "for policy_num in range(8):\n",
    "    profits = []\n",
    "    ranks = []\n",
    "    exchanges = []\n",
    "    summaries = []\n",
    "\n",
    "    for iteration in range(20): # run 10 simulations\n",
    "        e = simulate(price_function, execute_policy, policy_number=policy_num, agent_arrival_rate=agent_arrival_rate, taker_probability=taker_probability, n=100000) \n",
    "        summary, profit = summarize_transactions(e, price_function, num_agents=num_agents)\n",
    "        summaries.append(summary)\n",
    "        exchanges.append(e)\n",
    "\n",
    "        if len(profit[profit.index % 1 == 0.5]) == 0:\n",
    "            p = 0 \n",
    "            rank = None\n",
    "        else: \n",
    "            p = profit[profit.index % 1 == 0.5].iloc[0, -1]\n",
    "            rank = list(profit.index % 1).index(0.5) + 1\n",
    "        profits.append(p)\n",
    "        ranks.append(rank)\n",
    "\n",
    "    policy_data.append((profits, ranks, exchanges, summaries))"
   ]
  },
  {
   "cell_type": "code",
   "execution_count": 34,
   "metadata": {},
   "outputs": [
    {
     "data": {
      "text/plain": [
       "[-17142614.393677287,\n",
       " -18635574.460927326,\n",
       " -2297874.908947463,\n",
       " -1737759.5722625614,\n",
       " -2173350.336176459,\n",
       " -994623.2802674093,\n",
       " -1039427.1521852255,\n",
       " -139578.0721208909]"
      ]
     },
     "execution_count": 34,
     "metadata": {},
     "output_type": "execute_result"
    }
   ],
   "source": [
    "# average profit for each simple policy\n",
    "[np.mean(arr[0]) for arr in policy_data]"
   ]
  },
  {
   "cell_type": "code",
   "execution_count": 35,
   "metadata": {},
   "outputs": [
    {
     "data": {
      "text/plain": [
       "[21.0, 21.0, 18.65, 17.8, 18.55, 14.9, 15.95, 12.15]"
      ]
     },
     "execution_count": 35,
     "metadata": {},
     "output_type": "execute_result"
    }
   ],
   "source": [
    "# average rank for each simple policy\n",
    "[np.mean(arr[1]) for arr in policy_data]"
   ]
  },
  {
   "cell_type": "code",
   "execution_count": null,
   "metadata": {},
   "outputs": [],
   "source": []
  }
 ],
 "metadata": {
  "kernelspec": {
   "display_name": "Python 3.9.12 ('ml')",
   "language": "python",
   "name": "python3"
  },
  "language_info": {
   "codemirror_mode": {
    "name": "ipython",
    "version": 3
   },
   "file_extension": ".py",
   "mimetype": "text/x-python",
   "name": "python",
   "nbconvert_exporter": "python",
   "pygments_lexer": "ipython3",
   "version": "3.9.12"
  },
  "orig_nbformat": 4,
  "vscode": {
   "interpreter": {
    "hash": "c09d1698212c735a3443dc0423fe58b563a1b228e762256a81505a70ae1393dc"
   }
  }
 },
 "nbformat": 4,
 "nbformat_minor": 2
}
